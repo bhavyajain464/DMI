{
  "nbformat": 4,
  "nbformat_minor": 0,
  "metadata": {
    "colab": {
      "name": "OneClassTree_letter.ipynb",
      "provenance": []
    },
    "kernelspec": {
      "name": "python3",
      "display_name": "Python 3"
    },
    "language_info": {
      "name": "python"
    }
  },
  "cells": [
    {
      "cell_type": "code",
      "metadata": {
        "id": "G7TPZcLFrsm1"
      },
      "source": [
        "from sklearn.neighbors import KernelDensity\n",
        "import pandas as pd\n",
        "data = pd.read_csv(\"/content/letter-recognition.data\")"
      ],
      "execution_count": null,
      "outputs": []
    },
    {
      "cell_type": "code",
      "metadata": {
        "id": "CqyixrsIyeWI"
      },
      "source": [
        "train_data = data.sample(frac=0.7)\n",
        "test_data = data.drop(train_data.index)"
      ],
      "execution_count": null,
      "outputs": []
    },
    {
      "cell_type": "code",
      "metadata": {
        "id": "r68SxnQdyowk"
      },
      "source": [
        "def label_data(label):\n",
        "  labels = np.array(train_data['Label'].unique())\n",
        "  df = []\n",
        "  for l in labels:\n",
        "    if(l==label):\n",
        "      df.append(train_data[train_data['Label']==l])\n",
        "    else:\n",
        "      df.append(train_data[train_data['Label']==l].sample(frac=0.04))\n",
        "  return pd.concat(df)"
      ],
      "execution_count": null,
      "outputs": []
    },
    {
      "cell_type": "code",
      "metadata": {
        "id": "FizUqVuSy1Vk"
      },
      "source": [
        "import numpy as np\n",
        "from sklearn.ensemble import IsolationForest\n",
        "OCtree_for_label = {}\n",
        "int_to_letter = {}\n",
        "for i,l in enumerate(np.array(train_data['Label'].unique())):\n",
        "  int_to_letter[i]=l\n",
        "  data_label = label_data(l)\n",
        "  clf = IsolationForest().fit(data_label.drop('Label',axis=1))\n",
        "  OCtree_for_label[l]=clf"
      ],
      "execution_count": null,
      "outputs": []
    },
    {
      "cell_type": "code",
      "metadata": {
        "id": "baIPxd8Fy9XI"
      },
      "source": [
        "predictions = []\n",
        "for let in OCtree_for_label:\n",
        "  predictions.append(OCtree_for_label[let].decision_function(test_data.drop('Label',axis=1)))"
      ],
      "execution_count": null,
      "outputs": []
    },
    {
      "cell_type": "code",
      "metadata": {
        "colab": {
          "base_uri": "https://localhost:8080/"
        },
        "id": "mTudRtRJ4W69",
        "outputId": "dbf95be8-be7c-4d9f-8f03-fec3788da25f"
      },
      "source": [
        "np.array(predictions[0][6])"
      ],
      "execution_count": null,
      "outputs": [
        {
          "output_type": "execute_result",
          "data": {
            "text/plain": [
              "array(-0.00798028)"
            ]
          },
          "metadata": {
            "tags": []
          },
          "execution_count": 91
        }
      ]
    },
    {
      "cell_type": "code",
      "metadata": {
        "id": "hw4ARjpay-CV"
      },
      "source": [
        "predictions = np.array(predictions).T"
      ],
      "execution_count": null,
      "outputs": []
    },
    {
      "cell_type": "code",
      "metadata": {
        "colab": {
          "base_uri": "https://localhost:8080/"
        },
        "id": "WdHTTTfi4K5A",
        "outputId": "5d158dbb-9f45-4b0d-9fff-f36280c3b49a"
      },
      "source": [
        "predictions.shape"
      ],
      "execution_count": null,
      "outputs": [
        {
          "output_type": "execute_result",
          "data": {
            "text/plain": [
              "(6000, 26)"
            ]
          },
          "metadata": {
            "tags": []
          },
          "execution_count": 7
        }
      ]
    },
    {
      "cell_type": "code",
      "metadata": {
        "id": "Lk3P9uufzG9o"
      },
      "source": [
        "ans = []\n",
        "for i,pred in enumerate(predictions):\n",
        "  ans.append(int_to_letter[pred.argmax()])"
      ],
      "execution_count": null,
      "outputs": []
    },
    {
      "cell_type": "code",
      "metadata": {
        "colab": {
          "base_uri": "https://localhost:8080/"
        },
        "id": "Jy2C0BCdzJWL",
        "outputId": "5076ab0b-8b39-4cb4-acde-92f9a52e0b51"
      },
      "source": [
        "from sklearn.metrics import classification_report\n",
        "print(classification_report(test_data['Label'], ans))"
      ],
      "execution_count": null,
      "outputs": [
        {
          "output_type": "stream",
          "text": [
            "              precision    recall  f1-score   support\n",
            "\n",
            "           A       0.85      0.85      0.85       241\n",
            "           B       0.50      0.47      0.49       240\n",
            "           C       0.61      0.78      0.68       212\n",
            "           D       0.63      0.64      0.64       224\n",
            "           E       0.56      0.55      0.56       228\n",
            "           F       0.90      0.53      0.67       243\n",
            "           G       0.92      0.24      0.37       251\n",
            "           H       0.73      0.44      0.55       217\n",
            "           I       0.92      0.77      0.84       211\n",
            "           J       0.94      0.69      0.80       236\n",
            "           K       0.57      0.50      0.53       220\n",
            "           L       0.99      0.73      0.84       215\n",
            "           M       0.45      0.91      0.61       223\n",
            "           N       0.38      0.68      0.49       237\n",
            "           O       0.75      0.58      0.66       232\n",
            "           P       0.79      0.79      0.79       231\n",
            "           Q       0.52      0.73      0.61       236\n",
            "           R       0.76      0.34      0.47       228\n",
            "           S       0.32      0.47      0.38       209\n",
            "           T       0.76      0.71      0.73       247\n",
            "           U       0.69      0.73      0.71       264\n",
            "           V       0.88      0.55      0.68       214\n",
            "           W       0.47      0.86      0.61       207\n",
            "           X       0.61      0.34      0.43       240\n",
            "           Y       0.84      0.62      0.71       252\n",
            "           Z       0.43      0.69      0.53       242\n",
            "\n",
            "    accuracy                           0.62      6000\n",
            "   macro avg       0.68      0.62      0.62      6000\n",
            "weighted avg       0.69      0.62      0.62      6000\n",
            "\n"
          ],
          "name": "stdout"
        }
      ]
    }
  ]
}