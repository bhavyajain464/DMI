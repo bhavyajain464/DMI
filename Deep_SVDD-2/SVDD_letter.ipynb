{
  "nbformat": 4,
  "nbformat_minor": 0,
  "metadata": {
    "colab": {
      "name": "SVDD.ipynb",
      "provenance": [],
      "collapsed_sections": []
    },
    "kernelspec": {
      "name": "python3",
      "display_name": "Python 3"
    },
    "language_info": {
      "name": "python"
    }
  },
  "cells": [
    {
      "cell_type": "code",
      "metadata": {
        "id": "dvqsIxJ1oiAP",
        "colab": {
          "base_uri": "https://localhost:8080/"
        },
        "outputId": "c68f1b93-bef1-4e04-9af2-38dd22362cd2"
      },
      "source": [
        "!pip install deep-svdd"
      ],
      "execution_count": 1,
      "outputs": [
        {
          "output_type": "stream",
          "text": [
            "Collecting deep-svdd\n",
            "  Downloading https://files.pythonhosted.org/packages/54/2d/cc0cb0ae63da58af1e842f2b9c1b3cee9e5ad2d2ec36083f8449058a9ce3/deep_svdd-1.3-py3-none-any.whl\n",
            "Requirement already satisfied: matplotlib in /usr/local/lib/python3.7/dist-packages (from deep-svdd) (3.2.2)\n",
            "Requirement already satisfied: tqdm in /usr/local/lib/python3.7/dist-packages (from deep-svdd) (4.41.1)\n",
            "Requirement already satisfied: scikit-learn in /usr/local/lib/python3.7/dist-packages (from deep-svdd) (0.22.2.post1)\n",
            "Requirement already satisfied: numpy in /usr/local/lib/python3.7/dist-packages (from deep-svdd) (1.19.5)\n",
            "Collecting tensorflow-gpu>=1.12.0\n",
            "\u001b[?25l  Downloading https://files.pythonhosted.org/packages/85/cc/a27e73cf8b23f2ce4bdd2b7089a42a7819ce6dd7366dceba406ddc5daa9c/tensorflow_gpu-2.4.1-cp37-cp37m-manylinux2010_x86_64.whl (394.3MB)\n",
            "\u001b[K     |████████████████████████████████| 394.3MB 38kB/s \n",
            "\u001b[?25hRequirement already satisfied: cycler>=0.10 in /usr/local/lib/python3.7/dist-packages (from matplotlib->deep-svdd) (0.10.0)\n",
            "Requirement already satisfied: pyparsing!=2.0.4,!=2.1.2,!=2.1.6,>=2.0.1 in /usr/local/lib/python3.7/dist-packages (from matplotlib->deep-svdd) (2.4.7)\n",
            "Requirement already satisfied: python-dateutil>=2.1 in /usr/local/lib/python3.7/dist-packages (from matplotlib->deep-svdd) (2.8.1)\n",
            "Requirement already satisfied: kiwisolver>=1.0.1 in /usr/local/lib/python3.7/dist-packages (from matplotlib->deep-svdd) (1.3.1)\n",
            "Requirement already satisfied: joblib>=0.11 in /usr/local/lib/python3.7/dist-packages (from scikit-learn->deep-svdd) (1.0.1)\n",
            "Requirement already satisfied: scipy>=0.17.0 in /usr/local/lib/python3.7/dist-packages (from scikit-learn->deep-svdd) (1.4.1)\n",
            "Requirement already satisfied: wheel~=0.35 in /usr/local/lib/python3.7/dist-packages (from tensorflow-gpu>=1.12.0->deep-svdd) (0.36.2)\n",
            "Requirement already satisfied: h5py~=2.10.0 in /usr/local/lib/python3.7/dist-packages (from tensorflow-gpu>=1.12.0->deep-svdd) (2.10.0)\n",
            "Requirement already satisfied: flatbuffers~=1.12.0 in /usr/local/lib/python3.7/dist-packages (from tensorflow-gpu>=1.12.0->deep-svdd) (1.12)\n",
            "Requirement already satisfied: typing-extensions~=3.7.4 in /usr/local/lib/python3.7/dist-packages (from tensorflow-gpu>=1.12.0->deep-svdd) (3.7.4.3)\n",
            "Requirement already satisfied: protobuf>=3.9.2 in /usr/local/lib/python3.7/dist-packages (from tensorflow-gpu>=1.12.0->deep-svdd) (3.12.4)\n",
            "Requirement already satisfied: gast==0.3.3 in /usr/local/lib/python3.7/dist-packages (from tensorflow-gpu>=1.12.0->deep-svdd) (0.3.3)\n",
            "Requirement already satisfied: google-pasta~=0.2 in /usr/local/lib/python3.7/dist-packages (from tensorflow-gpu>=1.12.0->deep-svdd) (0.2.0)\n",
            "Requirement already satisfied: keras-preprocessing~=1.1.2 in /usr/local/lib/python3.7/dist-packages (from tensorflow-gpu>=1.12.0->deep-svdd) (1.1.2)\n",
            "Requirement already satisfied: grpcio~=1.32.0 in /usr/local/lib/python3.7/dist-packages (from tensorflow-gpu>=1.12.0->deep-svdd) (1.32.0)\n",
            "Requirement already satisfied: opt-einsum~=3.3.0 in /usr/local/lib/python3.7/dist-packages (from tensorflow-gpu>=1.12.0->deep-svdd) (3.3.0)\n",
            "Requirement already satisfied: termcolor~=1.1.0 in /usr/local/lib/python3.7/dist-packages (from tensorflow-gpu>=1.12.0->deep-svdd) (1.1.0)\n",
            "Requirement already satisfied: absl-py~=0.10 in /usr/local/lib/python3.7/dist-packages (from tensorflow-gpu>=1.12.0->deep-svdd) (0.10.0)\n",
            "Requirement already satisfied: six~=1.15.0 in /usr/local/lib/python3.7/dist-packages (from tensorflow-gpu>=1.12.0->deep-svdd) (1.15.0)\n",
            "Requirement already satisfied: tensorflow-estimator<2.5.0,>=2.4.0 in /usr/local/lib/python3.7/dist-packages (from tensorflow-gpu>=1.12.0->deep-svdd) (2.4.0)\n",
            "Requirement already satisfied: wrapt~=1.12.1 in /usr/local/lib/python3.7/dist-packages (from tensorflow-gpu>=1.12.0->deep-svdd) (1.12.1)\n",
            "Requirement already satisfied: tensorboard~=2.4 in /usr/local/lib/python3.7/dist-packages (from tensorflow-gpu>=1.12.0->deep-svdd) (2.4.1)\n",
            "Requirement already satisfied: astunparse~=1.6.3 in /usr/local/lib/python3.7/dist-packages (from tensorflow-gpu>=1.12.0->deep-svdd) (1.6.3)\n",
            "Requirement already satisfied: setuptools in /usr/local/lib/python3.7/dist-packages (from protobuf>=3.9.2->tensorflow-gpu>=1.12.0->deep-svdd) (54.1.2)\n",
            "Requirement already satisfied: google-auth<2,>=1.6.3 in /usr/local/lib/python3.7/dist-packages (from tensorboard~=2.4->tensorflow-gpu>=1.12.0->deep-svdd) (1.27.1)\n",
            "Requirement already satisfied: werkzeug>=0.11.15 in /usr/local/lib/python3.7/dist-packages (from tensorboard~=2.4->tensorflow-gpu>=1.12.0->deep-svdd) (1.0.1)\n",
            "Requirement already satisfied: requests<3,>=2.21.0 in /usr/local/lib/python3.7/dist-packages (from tensorboard~=2.4->tensorflow-gpu>=1.12.0->deep-svdd) (2.23.0)\n",
            "Requirement already satisfied: tensorboard-plugin-wit>=1.6.0 in /usr/local/lib/python3.7/dist-packages (from tensorboard~=2.4->tensorflow-gpu>=1.12.0->deep-svdd) (1.8.0)\n",
            "Requirement already satisfied: markdown>=2.6.8 in /usr/local/lib/python3.7/dist-packages (from tensorboard~=2.4->tensorflow-gpu>=1.12.0->deep-svdd) (3.3.4)\n",
            "Requirement already satisfied: google-auth-oauthlib<0.5,>=0.4.1 in /usr/local/lib/python3.7/dist-packages (from tensorboard~=2.4->tensorflow-gpu>=1.12.0->deep-svdd) (0.4.3)\n",
            "Requirement already satisfied: rsa<5,>=3.1.4; python_version >= \"3.6\" in /usr/local/lib/python3.7/dist-packages (from google-auth<2,>=1.6.3->tensorboard~=2.4->tensorflow-gpu>=1.12.0->deep-svdd) (4.7.2)\n",
            "Requirement already satisfied: cachetools<5.0,>=2.0.0 in /usr/local/lib/python3.7/dist-packages (from google-auth<2,>=1.6.3->tensorboard~=2.4->tensorflow-gpu>=1.12.0->deep-svdd) (4.2.1)\n",
            "Requirement already satisfied: pyasn1-modules>=0.2.1 in /usr/local/lib/python3.7/dist-packages (from google-auth<2,>=1.6.3->tensorboard~=2.4->tensorflow-gpu>=1.12.0->deep-svdd) (0.2.8)\n",
            "Requirement already satisfied: certifi>=2017.4.17 in /usr/local/lib/python3.7/dist-packages (from requests<3,>=2.21.0->tensorboard~=2.4->tensorflow-gpu>=1.12.0->deep-svdd) (2020.12.5)\n",
            "Requirement already satisfied: idna<3,>=2.5 in /usr/local/lib/python3.7/dist-packages (from requests<3,>=2.21.0->tensorboard~=2.4->tensorflow-gpu>=1.12.0->deep-svdd) (2.10)\n",
            "Requirement already satisfied: chardet<4,>=3.0.2 in /usr/local/lib/python3.7/dist-packages (from requests<3,>=2.21.0->tensorboard~=2.4->tensorflow-gpu>=1.12.0->deep-svdd) (3.0.4)\n",
            "Requirement already satisfied: urllib3!=1.25.0,!=1.25.1,<1.26,>=1.21.1 in /usr/local/lib/python3.7/dist-packages (from requests<3,>=2.21.0->tensorboard~=2.4->tensorflow-gpu>=1.12.0->deep-svdd) (1.24.3)\n",
            "Requirement already satisfied: importlib-metadata; python_version < \"3.8\" in /usr/local/lib/python3.7/dist-packages (from markdown>=2.6.8->tensorboard~=2.4->tensorflow-gpu>=1.12.0->deep-svdd) (3.7.2)\n",
            "Requirement already satisfied: requests-oauthlib>=0.7.0 in /usr/local/lib/python3.7/dist-packages (from google-auth-oauthlib<0.5,>=0.4.1->tensorboard~=2.4->tensorflow-gpu>=1.12.0->deep-svdd) (1.3.0)\n",
            "Requirement already satisfied: pyasn1>=0.1.3 in /usr/local/lib/python3.7/dist-packages (from rsa<5,>=3.1.4; python_version >= \"3.6\"->google-auth<2,>=1.6.3->tensorboard~=2.4->tensorflow-gpu>=1.12.0->deep-svdd) (0.4.8)\n",
            "Requirement already satisfied: zipp>=0.5 in /usr/local/lib/python3.7/dist-packages (from importlib-metadata; python_version < \"3.8\"->markdown>=2.6.8->tensorboard~=2.4->tensorflow-gpu>=1.12.0->deep-svdd) (3.4.1)\n",
            "Requirement already satisfied: oauthlib>=3.0.0 in /usr/local/lib/python3.7/dist-packages (from requests-oauthlib>=0.7.0->google-auth-oauthlib<0.5,>=0.4.1->tensorboard~=2.4->tensorflow-gpu>=1.12.0->deep-svdd) (3.1.0)\n",
            "Installing collected packages: tensorflow-gpu, deep-svdd\n",
            "Successfully installed deep-svdd-1.3 tensorflow-gpu-2.4.1\n"
          ],
          "name": "stdout"
        }
      ]
    },
    {
      "cell_type": "code",
      "metadata": {
        "id": "5rKh78Djh_1I",
        "colab": {
          "base_uri": "https://localhost:8080/"
        },
        "outputId": "19f0f8fd-d530-4636-9f4c-8f2bdcd52785"
      },
      "source": [
        "%tensorflow_version 1.x\n",
        "import tensorflow\n",
        "print(tensorflow.__version__)\n",
        "from dsvdd import DeepSVDD\n",
        "from dsvdd.utils import plot_most_normal_and_abnormal_images"
      ],
      "execution_count": 1,
      "outputs": [
        {
          "output_type": "stream",
          "text": [
            "TensorFlow 1.x selected.\n",
            "1.15.2\n"
          ],
          "name": "stdout"
        }
      ]
    },
    {
      "cell_type": "code",
      "metadata": {
        "id": "cxcHia4DcmUi"
      },
      "source": [
        "from dsvdd import *\n",
        "import matplotlib.pyplot as plt\n",
        "from sklearn.metrics import roc_auc_score\n",
        "import pandas as pd\n",
        "import numpy as np"
      ],
      "execution_count": 2,
      "outputs": []
    },
    {
      "cell_type": "code",
      "metadata": {
        "id": "gfMHoN6PmWb2"
      },
      "source": [
        "def get_letter(cls='A'):\n",
        "    data = pd.read_csv(\"/content/letter-recognition.data\")\n",
        "    train_data = data.sample(frac=0.7)\n",
        "    test_data = data.drop(train_data.index)\n",
        "    x_train = np.array(train_data.drop('Label',axis=1))\n",
        "    y_train = np.array(train_data['Label'])\n",
        "    x_test = np.array(test_data.drop('Label',axis=1))\n",
        "    y_test = np.array(test_data['Label'])\n",
        "    # x_train, y_train = d_train\n",
        "    # x_test, y_test = d_test\n",
        "\n",
        "    mask = y_train == cls\n",
        "\n",
        "    x_train = x_train[mask]\n",
        "    x_train = np.expand_dims(x_train / 255., axis=-1).astype(np.float32)\n",
        "    x_test = np.expand_dims(x_test / 255., axis=-1).astype(np.float32)\n",
        "\n",
        "    y_test = (y_test == cls).astype(np.float32)\n",
        "    return x_train.reshape(len(x_train),4,4,1), x_test.reshape(len(x_test),4,4,1), y_test"
      ],
      "execution_count": 3,
      "outputs": []
    },
    {
      "cell_type": "code",
      "metadata": {
        "colab": {
          "base_uri": "https://localhost:8080/"
        },
        "id": "pVq8_Ghcpx7U",
        "outputId": "5ff34c8a-a77f-4a1a-f4c1-4bd900644422"
      },
      "source": [
        "import keras\n",
        "def letter_lenet(H=32):\n",
        "    model = keras.models.Sequential()\n",
        "\n",
        "    model.add(keras.layers.Conv2D(8, (3, 3), padding='same', use_bias=False, input_shape=(4, 4, 1)))\n",
        "    model.add(keras.layers.LeakyReLU(1e-2))\n",
        "    model.add(keras.layers.BatchNormalization(epsilon=1e-4, trainable=False))\n",
        "    model.add(keras.layers.MaxPool2D())\n",
        "\n",
        "    model.add(keras.layers.Conv2D(4, (3, 3), padding='same', use_bias=False))\n",
        "    model.add(keras.layers.LeakyReLU(1e-2))\n",
        "    model.add(keras.layers.BatchNormalization(epsilon=1e-4, trainable=False))\n",
        "    model.add(keras.layers.MaxPool2D())\n",
        "\n",
        "    model.add(keras.layers.Flatten())\n",
        "    model.add(keras.layers.Dense(H, use_bias=False))\n",
        "\n",
        "    return model"
      ],
      "execution_count": 4,
      "outputs": [
        {
          "output_type": "stream",
          "text": [
            "Using TensorFlow backend.\n"
          ],
          "name": "stderr"
        }
      ]
    },
    {
      "cell_type": "code",
      "metadata": {
        "colab": {
          "base_uri": "https://localhost:8080/"
        },
        "id": "vaL-ErgqcrA-",
        "outputId": "085135d0-a637-45ed-ee1f-815f63f43802"
      },
      "source": [
        "data = pd.read_csv(\"/content/letter-recognition.data\")\n",
        "\n",
        "predictions = []\n",
        "\n",
        "dict_int_to_cls ={}\n",
        "dict_cls_to_int ={}\n",
        "\n",
        "for i,cls in enumerate(np.array(data['Label'].unique())):\n",
        "\n",
        "# cls = 'A'\n",
        "    # print(i)\n",
        "    dict_int_to_cls[i] = cls\n",
        "    dict_cls_to_int[cls]=i\n",
        "    tensorflow.reset_default_graph()\n",
        "    keras_model = letter_lenet(32)\n",
        "    svdd = DeepSVDD(keras_model, input_shape=(4, 4, 1), representation_dim=32,\n",
        "                    objective='soft-boundary')\n",
        "    # keras_model.summary()\n",
        "\n",
        "    # get dataset\n",
        "    X_train, X_test, y_test = get_letter(cls)\n",
        "\n",
        "    # print(X_train.shape,X_test.shape,y_test.shape)\n",
        "    # train DeepSVDD\n",
        "    svdd.fit(X_train, X_test, y_test, epochs=10, verbose=True)\n",
        "\n",
        "    # print(y_test.shape)\n",
        "    # print(y_test[:10])\n",
        "    # test DeepSVDD\n",
        "    score = svdd.predict(X_test)\n",
        "    # predictions.append(np.array(score))\n",
        "    auc = roc_auc_score(y_test, -score)\n",
        "    # print(cls+' AUROC: %.3f' % auc)\n",
        "    predictions.append(np.array(auc))\n",
        "\n",
        "    # plot_most_normal_and_abnormal_images(X_test, score)\n",
        "    # plt.show()\n",
        "\n",
        "# predictions = np.array(predictions)"
      ],
      "execution_count": 19,
      "outputs": [
        {
          "output_type": "stream",
          "text": [
            "100%|██████████| 5/5 [00:00<00:00, 23.61it/s]\n",
            "100%|██████████| 5/5 [00:00<00:00, 251.96it/s]\n",
            "100%|██████████| 5/5 [00:00<00:00, 224.71it/s]"
          ],
          "name": "stderr"
        },
        {
          "output_type": "stream",
          "text": [
            "\rEpoch:   0 AUROC: 0.679\n",
            "\rEpoch:   1 AUROC: 0.674\n"
          ],
          "name": "stdout"
        },
        {
          "output_type": "stream",
          "text": [
            "\n",
            "100%|██████████| 5/5 [00:00<00:00, 218.11it/s]\n",
            "100%|██████████| 5/5 [00:00<00:00, 193.11it/s]"
          ],
          "name": "stderr"
        },
        {
          "output_type": "stream",
          "text": [
            "\rEpoch:   2 AUROC: 0.664\n",
            "\rEpoch:   3 AUROC: 0.660\n"
          ],
          "name": "stdout"
        },
        {
          "output_type": "stream",
          "text": [
            "\n",
            "100%|██████████| 5/5 [00:00<00:00, 200.09it/s]\n",
            "100%|██████████| 5/5 [00:00<00:00, 216.23it/s]"
          ],
          "name": "stderr"
        },
        {
          "output_type": "stream",
          "text": [
            "\rEpoch:   4 AUROC: 0.668\n",
            "\rEpoch:   5 AUROC: 0.675\n"
          ],
          "name": "stdout"
        },
        {
          "output_type": "stream",
          "text": [
            "\n",
            "100%|██████████| 5/5 [00:00<00:00, 221.15it/s]\n",
            "100%|██████████| 5/5 [00:00<00:00, 217.20it/s]"
          ],
          "name": "stderr"
        },
        {
          "output_type": "stream",
          "text": [
            "\rEpoch:   6 AUROC: 0.685\n",
            "\rEpoch:   7 AUROC: 0.629\n"
          ],
          "name": "stdout"
        },
        {
          "output_type": "stream",
          "text": [
            "\n",
            "100%|██████████| 5/5 [00:00<00:00, 224.54it/s]\n"
          ],
          "name": "stderr"
        },
        {
          "output_type": "stream",
          "text": [
            "\rEpoch:   8 AUROC: 0.499\n",
            "\rEpoch:   9 AUROC: 0.460\n"
          ],
          "name": "stdout"
        },
        {
          "output_type": "stream",
          "text": [
            "100%|██████████| 5/5 [00:00<00:00, 25.59it/s]\n",
            "100%|██████████| 5/5 [00:00<00:00, 204.62it/s]\n",
            "100%|██████████| 5/5 [00:00<00:00, 210.78it/s]"
          ],
          "name": "stderr"
        },
        {
          "output_type": "stream",
          "text": [
            "\rEpoch:   0 AUROC: 0.358\n",
            "\rEpoch:   1 AUROC: 0.358\n"
          ],
          "name": "stdout"
        },
        {
          "output_type": "stream",
          "text": [
            "\n",
            "100%|██████████| 5/5 [00:00<00:00, 185.99it/s]\n",
            "100%|██████████| 5/5 [00:00<00:00, 207.82it/s]"
          ],
          "name": "stderr"
        },
        {
          "output_type": "stream",
          "text": [
            "\rEpoch:   2 AUROC: 0.358\n",
            "\rEpoch:   3 AUROC: 0.358\n"
          ],
          "name": "stdout"
        },
        {
          "output_type": "stream",
          "text": [
            "\n",
            "100%|██████████| 5/5 [00:00<00:00, 194.01it/s]\n",
            "100%|██████████| 5/5 [00:00<00:00, 163.47it/s]"
          ],
          "name": "stderr"
        },
        {
          "output_type": "stream",
          "text": [
            "\rEpoch:   4 AUROC: 0.358\n",
            "\rEpoch:   5 AUROC: 0.358\n"
          ],
          "name": "stdout"
        },
        {
          "output_type": "stream",
          "text": [
            "\n",
            "100%|██████████| 5/5 [00:00<00:00, 210.26it/s]\n",
            "100%|██████████| 5/5 [00:00<00:00, 214.83it/s]"
          ],
          "name": "stderr"
        },
        {
          "output_type": "stream",
          "text": [
            "\rEpoch:   6 AUROC: 0.358\n",
            "\rEpoch:   7 AUROC: 0.358\n"
          ],
          "name": "stdout"
        },
        {
          "output_type": "stream",
          "text": [
            "\n",
            "100%|██████████| 5/5 [00:00<00:00, 236.58it/s]\n"
          ],
          "name": "stderr"
        },
        {
          "output_type": "stream",
          "text": [
            "\rEpoch:   8 AUROC: 0.358\n",
            "\rEpoch:   9 AUROC: 0.358\n"
          ],
          "name": "stdout"
        },
        {
          "output_type": "stream",
          "text": [
            "100%|██████████| 5/5 [00:00<00:00, 25.22it/s]\n",
            "100%|██████████| 5/5 [00:00<00:00, 218.40it/s]\n",
            "100%|██████████| 5/5 [00:00<00:00, 232.44it/s]"
          ],
          "name": "stderr"
        },
        {
          "output_type": "stream",
          "text": [
            "\rEpoch:   0 AUROC: 0.381\n",
            "\rEpoch:   1 AUROC: 0.381\n"
          ],
          "name": "stdout"
        },
        {
          "output_type": "stream",
          "text": [
            "\n",
            "100%|██████████| 5/5 [00:00<00:00, 225.61it/s]\n",
            "100%|██████████| 5/5 [00:00<00:00, 202.74it/s]"
          ],
          "name": "stderr"
        },
        {
          "output_type": "stream",
          "text": [
            "\rEpoch:   2 AUROC: 0.381\n",
            "\rEpoch:   3 AUROC: 0.381\n"
          ],
          "name": "stdout"
        },
        {
          "output_type": "stream",
          "text": [
            "\n",
            "100%|██████████| 5/5 [00:00<00:00, 217.02it/s]\n",
            "100%|██████████| 5/5 [00:00<00:00, 231.37it/s]"
          ],
          "name": "stderr"
        },
        {
          "output_type": "stream",
          "text": [
            "\rEpoch:   4 AUROC: 0.381\n",
            "\rEpoch:   5 AUROC: 0.381\n"
          ],
          "name": "stdout"
        },
        {
          "output_type": "stream",
          "text": [
            "\n",
            "100%|██████████| 5/5 [00:00<00:00, 211.05it/s]\n",
            "100%|██████████| 5/5 [00:00<00:00, 231.07it/s]"
          ],
          "name": "stderr"
        },
        {
          "output_type": "stream",
          "text": [
            "\rEpoch:   6 AUROC: 0.381\n",
            "\rEpoch:   7 AUROC: 0.381\n"
          ],
          "name": "stdout"
        },
        {
          "output_type": "stream",
          "text": [
            "\n",
            "100%|██████████| 5/5 [00:00<00:00, 256.13it/s]\n"
          ],
          "name": "stderr"
        },
        {
          "output_type": "stream",
          "text": [
            "\rEpoch:   8 AUROC: 0.381\n",
            "\rEpoch:   9 AUROC: 0.381\n"
          ],
          "name": "stdout"
        },
        {
          "output_type": "stream",
          "text": [
            "100%|██████████| 5/5 [00:00<00:00, 23.50it/s]\n",
            "100%|██████████| 5/5 [00:00<00:00, 206.21it/s]\n",
            "100%|██████████| 5/5 [00:00<00:00, 214.52it/s]"
          ],
          "name": "stderr"
        },
        {
          "output_type": "stream",
          "text": [
            "\rEpoch:   0 AUROC: 0.441\n",
            "\rEpoch:   1 AUROC: 0.428\n"
          ],
          "name": "stdout"
        },
        {
          "output_type": "stream",
          "text": [
            "\n",
            "100%|██████████| 5/5 [00:00<00:00, 203.64it/s]\n",
            "100%|██████████| 5/5 [00:00<00:00, 180.83it/s]"
          ],
          "name": "stderr"
        },
        {
          "output_type": "stream",
          "text": [
            "\rEpoch:   2 AUROC: 0.420\n",
            "\rEpoch:   3 AUROC: 0.415\n"
          ],
          "name": "stdout"
        },
        {
          "output_type": "stream",
          "text": [
            "\n",
            "100%|██████████| 5/5 [00:00<00:00, 179.27it/s]\n",
            "100%|██████████| 5/5 [00:00<00:00, 211.61it/s]"
          ],
          "name": "stderr"
        },
        {
          "output_type": "stream",
          "text": [
            "\rEpoch:   4 AUROC: 0.411\n",
            "\rEpoch:   5 AUROC: 0.406\n"
          ],
          "name": "stdout"
        },
        {
          "output_type": "stream",
          "text": [
            "\n",
            "100%|██████████| 5/5 [00:00<00:00, 203.93it/s]\n",
            "100%|██████████| 5/5 [00:00<00:00, 185.69it/s]"
          ],
          "name": "stderr"
        },
        {
          "output_type": "stream",
          "text": [
            "\rEpoch:   6 AUROC: 0.400\n",
            "\rEpoch:   7 AUROC: 0.392\n"
          ],
          "name": "stdout"
        },
        {
          "output_type": "stream",
          "text": [
            "\n",
            "100%|██████████| 5/5 [00:00<00:00, 218.12it/s]\n"
          ],
          "name": "stderr"
        },
        {
          "output_type": "stream",
          "text": [
            "\rEpoch:   8 AUROC: 0.383\n",
            "\rEpoch:   9 AUROC: 0.376\n"
          ],
          "name": "stdout"
        },
        {
          "output_type": "stream",
          "text": [
            "100%|██████████| 5/5 [00:00<00:00, 25.89it/s]\n",
            "100%|██████████| 5/5 [00:00<00:00, 231.56it/s]\n",
            "100%|██████████| 5/5 [00:00<00:00, 238.12it/s]"
          ],
          "name": "stderr"
        },
        {
          "output_type": "stream",
          "text": [
            "\rEpoch:   0 AUROC: 0.371\n",
            "\rEpoch:   1 AUROC: 0.390\n"
          ],
          "name": "stdout"
        },
        {
          "output_type": "stream",
          "text": [
            "\n",
            "100%|██████████| 5/5 [00:00<00:00, 268.30it/s]\n",
            "100%|██████████| 5/5 [00:00<00:00, 190.19it/s]"
          ],
          "name": "stderr"
        },
        {
          "output_type": "stream",
          "text": [
            "\rEpoch:   2 AUROC: 0.399\n",
            "\rEpoch:   3 AUROC: 0.408\n"
          ],
          "name": "stdout"
        },
        {
          "output_type": "stream",
          "text": [
            "\n",
            "100%|██████████| 5/5 [00:00<00:00, 209.14it/s]\n",
            "100%|██████████| 5/5 [00:00<00:00, 216.97it/s]"
          ],
          "name": "stderr"
        },
        {
          "output_type": "stream",
          "text": [
            "\rEpoch:   4 AUROC: 0.414\n",
            "\rEpoch:   5 AUROC: 0.420\n"
          ],
          "name": "stdout"
        },
        {
          "output_type": "stream",
          "text": [
            "\n",
            "100%|██████████| 5/5 [00:00<00:00, 218.43it/s]\n",
            "100%|██████████| 5/5 [00:00<00:00, 180.35it/s]"
          ],
          "name": "stderr"
        },
        {
          "output_type": "stream",
          "text": [
            "\rEpoch:   6 AUROC: 0.423\n",
            "\rEpoch:   7 AUROC: 0.422\n"
          ],
          "name": "stdout"
        },
        {
          "output_type": "stream",
          "text": [
            "\n",
            "100%|██████████| 5/5 [00:00<00:00, 221.00it/s]\n"
          ],
          "name": "stderr"
        },
        {
          "output_type": "stream",
          "text": [
            "\rEpoch:   8 AUROC: 0.417\n",
            "\rEpoch:   9 AUROC: 0.409\n"
          ],
          "name": "stdout"
        },
        {
          "output_type": "stream",
          "text": [
            "100%|██████████| 5/5 [00:00<00:00, 28.16it/s]\n",
            "100%|██████████| 5/5 [00:00<00:00, 212.90it/s]\n",
            "100%|██████████| 5/5 [00:00<00:00, 200.89it/s]"
          ],
          "name": "stderr"
        },
        {
          "output_type": "stream",
          "text": [
            "\rEpoch:   0 AUROC: 0.355\n",
            "\rEpoch:   1 AUROC: 0.354\n"
          ],
          "name": "stdout"
        },
        {
          "output_type": "stream",
          "text": [
            "\n",
            "100%|██████████| 5/5 [00:00<00:00, 241.55it/s]\n",
            "100%|██████████| 5/5 [00:00<00:00, 241.97it/s]"
          ],
          "name": "stderr"
        },
        {
          "output_type": "stream",
          "text": [
            "\rEpoch:   2 AUROC: 0.379\n",
            "\rEpoch:   3 AUROC: 0.401\n"
          ],
          "name": "stdout"
        },
        {
          "output_type": "stream",
          "text": [
            "\n",
            "100%|██████████| 5/5 [00:00<00:00, 257.86it/s]\n",
            "100%|██████████| 5/5 [00:00<00:00, 232.65it/s]"
          ],
          "name": "stderr"
        },
        {
          "output_type": "stream",
          "text": [
            "\rEpoch:   4 AUROC: 0.422\n",
            "\rEpoch:   5 AUROC: 0.442\n"
          ],
          "name": "stdout"
        },
        {
          "output_type": "stream",
          "text": [
            "\n",
            "100%|██████████| 5/5 [00:00<00:00, 241.13it/s]\n",
            "100%|██████████| 5/5 [00:00<00:00, 230.55it/s]"
          ],
          "name": "stderr"
        },
        {
          "output_type": "stream",
          "text": [
            "\rEpoch:   6 AUROC: 0.462\n",
            "\rEpoch:   7 AUROC: 0.489\n"
          ],
          "name": "stdout"
        },
        {
          "output_type": "stream",
          "text": [
            "\n",
            "100%|██████████| 5/5 [00:00<00:00, 231.48it/s]\n"
          ],
          "name": "stderr"
        },
        {
          "output_type": "stream",
          "text": [
            "\rEpoch:   8 AUROC: 0.590\n",
            "\rEpoch:   9 AUROC: 0.594\n"
          ],
          "name": "stdout"
        },
        {
          "output_type": "stream",
          "text": [
            "100%|██████████| 5/5 [00:00<00:00, 28.16it/s]\n",
            "100%|██████████| 5/5 [00:00<00:00, 217.68it/s]\n",
            "100%|██████████| 5/5 [00:00<00:00, 230.87it/s]"
          ],
          "name": "stderr"
        },
        {
          "output_type": "stream",
          "text": [
            "\rEpoch:   0 AUROC: 0.296\n",
            "\rEpoch:   1 AUROC: 0.328\n"
          ],
          "name": "stdout"
        },
        {
          "output_type": "stream",
          "text": [
            "\n",
            "100%|██████████| 5/5 [00:00<00:00, 257.55it/s]\n",
            "100%|██████████| 5/5 [00:00<00:00, 220.38it/s]"
          ],
          "name": "stderr"
        },
        {
          "output_type": "stream",
          "text": [
            "\rEpoch:   2 AUROC: 0.358\n",
            "\rEpoch:   3 AUROC: 0.374\n"
          ],
          "name": "stdout"
        },
        {
          "output_type": "stream",
          "text": [
            "\n",
            "100%|██████████| 5/5 [00:00<00:00, 251.20it/s]\n",
            "100%|██████████| 5/5 [00:00<00:00, 209.41it/s]"
          ],
          "name": "stderr"
        },
        {
          "output_type": "stream",
          "text": [
            "\rEpoch:   4 AUROC: 0.381\n",
            "\rEpoch:   5 AUROC: 0.385\n"
          ],
          "name": "stdout"
        },
        {
          "output_type": "stream",
          "text": [
            "\n",
            "100%|██████████| 5/5 [00:00<00:00, 246.11it/s]\n",
            "100%|██████████| 5/5 [00:00<00:00, 170.70it/s]"
          ],
          "name": "stderr"
        },
        {
          "output_type": "stream",
          "text": [
            "\rEpoch:   6 AUROC: 0.388\n",
            "\rEpoch:   7 AUROC: 0.389\n"
          ],
          "name": "stdout"
        },
        {
          "output_type": "stream",
          "text": [
            "\n",
            "100%|██████████| 5/5 [00:00<00:00, 201.52it/s]\n"
          ],
          "name": "stderr"
        },
        {
          "output_type": "stream",
          "text": [
            "\rEpoch:   8 AUROC: 0.390\n",
            "\rEpoch:   9 AUROC: 0.390\n"
          ],
          "name": "stdout"
        },
        {
          "output_type": "stream",
          "text": [
            "100%|██████████| 5/5 [00:00<00:00, 28.11it/s]\n",
            "100%|██████████| 5/5 [00:00<00:00, 215.50it/s]\n",
            "100%|██████████| 5/5 [00:00<00:00, 199.15it/s]"
          ],
          "name": "stderr"
        },
        {
          "output_type": "stream",
          "text": [
            "\rEpoch:   0 AUROC: 0.549\n",
            "\rEpoch:   1 AUROC: 0.549\n"
          ],
          "name": "stdout"
        },
        {
          "output_type": "stream",
          "text": [
            "\n",
            "100%|██████████| 5/5 [00:00<00:00, 198.01it/s]\n",
            "100%|██████████| 5/5 [00:00<00:00, 191.56it/s]"
          ],
          "name": "stderr"
        },
        {
          "output_type": "stream",
          "text": [
            "\rEpoch:   2 AUROC: 0.549\n",
            "\rEpoch:   3 AUROC: 0.549\n"
          ],
          "name": "stdout"
        },
        {
          "output_type": "stream",
          "text": [
            "\n",
            "100%|██████████| 5/5 [00:00<00:00, 205.92it/s]\n",
            "100%|██████████| 5/5 [00:00<00:00, 193.74it/s]"
          ],
          "name": "stderr"
        },
        {
          "output_type": "stream",
          "text": [
            "\rEpoch:   4 AUROC: 0.549\n",
            "\rEpoch:   5 AUROC: 0.549\n"
          ],
          "name": "stdout"
        },
        {
          "output_type": "stream",
          "text": [
            "\n",
            "100%|██████████| 5/5 [00:00<00:00, 157.05it/s]\n",
            "100%|██████████| 5/5 [00:00<00:00, 218.25it/s]"
          ],
          "name": "stderr"
        },
        {
          "output_type": "stream",
          "text": [
            "\rEpoch:   6 AUROC: 0.549\n",
            "\rEpoch:   7 AUROC: 0.549\n"
          ],
          "name": "stdout"
        },
        {
          "output_type": "stream",
          "text": [
            "\n",
            "100%|██████████| 5/5 [00:00<00:00, 224.60it/s]\n"
          ],
          "name": "stderr"
        },
        {
          "output_type": "stream",
          "text": [
            "\rEpoch:   8 AUROC: 0.549\n",
            "\rEpoch:   9 AUROC: 0.549\n"
          ],
          "name": "stdout"
        },
        {
          "output_type": "stream",
          "text": [
            "100%|██████████| 4/4 [00:00<00:00, 22.62it/s]\n",
            "100%|██████████| 4/4 [00:00<00:00, 197.60it/s]\n",
            "100%|██████████| 4/4 [00:00<00:00, 225.19it/s]"
          ],
          "name": "stderr"
        },
        {
          "output_type": "stream",
          "text": [
            "\rEpoch:   0 AUROC: 0.585\n",
            "\rEpoch:   1 AUROC: 0.585\n"
          ],
          "name": "stdout"
        },
        {
          "output_type": "stream",
          "text": [
            "\n",
            "100%|██████████| 4/4 [00:00<00:00, 194.37it/s]\n",
            "100%|██████████| 4/4 [00:00<00:00, 193.91it/s]"
          ],
          "name": "stderr"
        },
        {
          "output_type": "stream",
          "text": [
            "\rEpoch:   2 AUROC: 0.585\n",
            "\rEpoch:   3 AUROC: 0.585\n"
          ],
          "name": "stdout"
        },
        {
          "output_type": "stream",
          "text": [
            "\n",
            "100%|██████████| 4/4 [00:00<00:00, 223.57it/s]\n",
            "100%|██████████| 4/4 [00:00<00:00, 183.32it/s]"
          ],
          "name": "stderr"
        },
        {
          "output_type": "stream",
          "text": [
            "\rEpoch:   4 AUROC: 0.585\n",
            "\rEpoch:   5 AUROC: 0.585\n"
          ],
          "name": "stdout"
        },
        {
          "output_type": "stream",
          "text": [
            "\n",
            "100%|██████████| 4/4 [00:00<00:00, 240.41it/s]\n",
            "100%|██████████| 4/4 [00:00<00:00, 172.84it/s]"
          ],
          "name": "stderr"
        },
        {
          "output_type": "stream",
          "text": [
            "\rEpoch:   6 AUROC: 0.585\n",
            "\rEpoch:   7 AUROC: 0.585\n"
          ],
          "name": "stdout"
        },
        {
          "output_type": "stream",
          "text": [
            "\n",
            "100%|██████████| 4/4 [00:00<00:00, 189.12it/s]\n"
          ],
          "name": "stderr"
        },
        {
          "output_type": "stream",
          "text": [
            "\rEpoch:   8 AUROC: 0.585\n",
            "\rEpoch:   9 AUROC: 0.585\n"
          ],
          "name": "stdout"
        },
        {
          "output_type": "stream",
          "text": [
            "100%|██████████| 5/5 [00:00<00:00, 27.45it/s]\n",
            "100%|██████████| 5/5 [00:00<00:00, 244.81it/s]\n",
            "100%|██████████| 5/5 [00:00<00:00, 228.81it/s]"
          ],
          "name": "stderr"
        },
        {
          "output_type": "stream",
          "text": [
            "\rEpoch:   0 AUROC: 0.405\n",
            "\rEpoch:   1 AUROC: 0.422\n"
          ],
          "name": "stdout"
        },
        {
          "output_type": "stream",
          "text": [
            "\n",
            "100%|██████████| 5/5 [00:00<00:00, 193.51it/s]\n",
            "100%|██████████| 5/5 [00:00<00:00, 221.68it/s]"
          ],
          "name": "stderr"
        },
        {
          "output_type": "stream",
          "text": [
            "\rEpoch:   2 AUROC: 0.449\n",
            "\rEpoch:   3 AUROC: 0.458\n"
          ],
          "name": "stdout"
        },
        {
          "output_type": "stream",
          "text": [
            "\n",
            "100%|██████████| 5/5 [00:00<00:00, 168.11it/s]\n",
            "100%|██████████| 5/5 [00:00<00:00, 196.05it/s]"
          ],
          "name": "stderr"
        },
        {
          "output_type": "stream",
          "text": [
            "\rEpoch:   4 AUROC: 0.461\n",
            "\rEpoch:   5 AUROC: 0.460\n"
          ],
          "name": "stdout"
        },
        {
          "output_type": "stream",
          "text": [
            "\n",
            "100%|██████████| 5/5 [00:00<00:00, 208.59it/s]\n",
            "100%|██████████| 5/5 [00:00<00:00, 193.54it/s]"
          ],
          "name": "stderr"
        },
        {
          "output_type": "stream",
          "text": [
            "\rEpoch:   6 AUROC: 0.457\n",
            "\rEpoch:   7 AUROC: 0.451\n"
          ],
          "name": "stdout"
        },
        {
          "output_type": "stream",
          "text": [
            "\n",
            "100%|██████████| 5/5 [00:00<00:00, 220.08it/s]\n"
          ],
          "name": "stderr"
        },
        {
          "output_type": "stream",
          "text": [
            "\rEpoch:   8 AUROC: 0.444\n",
            "\rEpoch:   9 AUROC: 0.437\n"
          ],
          "name": "stdout"
        },
        {
          "output_type": "stream",
          "text": [
            "100%|██████████| 5/5 [00:00<00:00, 25.43it/s]\n",
            "100%|██████████| 5/5 [00:00<00:00, 180.05it/s]\n",
            "100%|██████████| 5/5 [00:00<00:00, 235.70it/s]"
          ],
          "name": "stderr"
        },
        {
          "output_type": "stream",
          "text": [
            "\rEpoch:   0 AUROC: 0.508\n",
            "\rEpoch:   1 AUROC: 0.508\n"
          ],
          "name": "stdout"
        },
        {
          "output_type": "stream",
          "text": [
            "\n",
            "100%|██████████| 5/5 [00:00<00:00, 190.38it/s]\n",
            "100%|██████████| 5/5 [00:00<00:00, 236.53it/s]"
          ],
          "name": "stderr"
        },
        {
          "output_type": "stream",
          "text": [
            "\rEpoch:   2 AUROC: 0.508\n",
            "\rEpoch:   3 AUROC: 0.508\n"
          ],
          "name": "stdout"
        },
        {
          "output_type": "stream",
          "text": [
            "\n",
            "100%|██████████| 5/5 [00:00<00:00, 172.12it/s]\n",
            "100%|██████████| 5/5 [00:00<00:00, 236.73it/s]"
          ],
          "name": "stderr"
        },
        {
          "output_type": "stream",
          "text": [
            "\rEpoch:   4 AUROC: 0.508\n",
            "\rEpoch:   5 AUROC: 0.508\n"
          ],
          "name": "stdout"
        },
        {
          "output_type": "stream",
          "text": [
            "\n",
            "100%|██████████| 5/5 [00:00<00:00, 215.11it/s]\n",
            "100%|██████████| 5/5 [00:00<00:00, 211.25it/s]"
          ],
          "name": "stderr"
        },
        {
          "output_type": "stream",
          "text": [
            "\rEpoch:   6 AUROC: 0.508\n",
            "\rEpoch:   7 AUROC: 0.508\n"
          ],
          "name": "stdout"
        },
        {
          "output_type": "stream",
          "text": [
            "\n",
            "100%|██████████| 5/5 [00:00<00:00, 218.53it/s]\n"
          ],
          "name": "stderr"
        },
        {
          "output_type": "stream",
          "text": [
            "\rEpoch:   8 AUROC: 0.508\n",
            "\rEpoch:   9 AUROC: 0.508\n"
          ],
          "name": "stdout"
        },
        {
          "output_type": "stream",
          "text": [
            "100%|██████████| 5/5 [00:00<00:00, 27.85it/s]\n",
            "100%|██████████| 5/5 [00:00<00:00, 191.66it/s]\n",
            "100%|██████████| 5/5 [00:00<00:00, 199.56it/s]"
          ],
          "name": "stderr"
        },
        {
          "output_type": "stream",
          "text": [
            "\rEpoch:   0 AUROC: 0.311\n",
            "\rEpoch:   1 AUROC: 0.311\n"
          ],
          "name": "stdout"
        },
        {
          "output_type": "stream",
          "text": [
            "\n",
            "100%|██████████| 5/5 [00:00<00:00, 188.57it/s]\n",
            "100%|██████████| 5/5 [00:00<00:00, 208.29it/s]"
          ],
          "name": "stderr"
        },
        {
          "output_type": "stream",
          "text": [
            "\rEpoch:   2 AUROC: 0.311\n",
            "\rEpoch:   3 AUROC: 0.311\n"
          ],
          "name": "stdout"
        },
        {
          "output_type": "stream",
          "text": [
            "\n",
            "100%|██████████| 5/5 [00:00<00:00, 201.18it/s]\n",
            "100%|██████████| 5/5 [00:00<00:00, 173.52it/s]"
          ],
          "name": "stderr"
        },
        {
          "output_type": "stream",
          "text": [
            "\rEpoch:   4 AUROC: 0.311\n",
            "\rEpoch:   5 AUROC: 0.311\n"
          ],
          "name": "stdout"
        },
        {
          "output_type": "stream",
          "text": [
            "\n",
            "100%|██████████| 5/5 [00:00<00:00, 192.15it/s]\n",
            "100%|██████████| 5/5 [00:00<00:00, 229.08it/s]"
          ],
          "name": "stderr"
        },
        {
          "output_type": "stream",
          "text": [
            "\rEpoch:   6 AUROC: 0.311\n",
            "\rEpoch:   7 AUROC: 0.311\n"
          ],
          "name": "stdout"
        },
        {
          "output_type": "stream",
          "text": [
            "\n",
            "100%|██████████| 5/5 [00:00<00:00, 187.42it/s]\n"
          ],
          "name": "stderr"
        },
        {
          "output_type": "stream",
          "text": [
            "\rEpoch:   8 AUROC: 0.311\n",
            "\rEpoch:   9 AUROC: 0.311\n"
          ],
          "name": "stdout"
        },
        {
          "output_type": "stream",
          "text": [
            "100%|██████████| 5/5 [00:00<00:00, 24.46it/s]\n",
            "100%|██████████| 5/5 [00:00<00:00, 248.99it/s]\n",
            "100%|██████████| 5/5 [00:00<00:00, 189.10it/s]"
          ],
          "name": "stderr"
        },
        {
          "output_type": "stream",
          "text": [
            "\rEpoch:   0 AUROC: 0.439\n",
            "\rEpoch:   1 AUROC: 0.439\n"
          ],
          "name": "stdout"
        },
        {
          "output_type": "stream",
          "text": [
            "\n",
            "100%|██████████| 5/5 [00:00<00:00, 192.03it/s]\n",
            "100%|██████████| 5/5 [00:00<00:00, 213.92it/s]"
          ],
          "name": "stderr"
        },
        {
          "output_type": "stream",
          "text": [
            "\rEpoch:   2 AUROC: 0.439\n",
            "\rEpoch:   3 AUROC: 0.439\n"
          ],
          "name": "stdout"
        },
        {
          "output_type": "stream",
          "text": [
            "\n",
            "100%|██████████| 5/5 [00:00<00:00, 220.05it/s]\n",
            "100%|██████████| 5/5 [00:00<00:00, 204.53it/s]"
          ],
          "name": "stderr"
        },
        {
          "output_type": "stream",
          "text": [
            "\rEpoch:   4 AUROC: 0.439\n",
            "\rEpoch:   5 AUROC: 0.439\n"
          ],
          "name": "stdout"
        },
        {
          "output_type": "stream",
          "text": [
            "\n",
            "100%|██████████| 5/5 [00:00<00:00, 219.96it/s]\n",
            "100%|██████████| 5/5 [00:00<00:00, 222.55it/s]"
          ],
          "name": "stderr"
        },
        {
          "output_type": "stream",
          "text": [
            "\rEpoch:   6 AUROC: 0.439\n",
            "\rEpoch:   7 AUROC: 0.439\n"
          ],
          "name": "stdout"
        },
        {
          "output_type": "stream",
          "text": [
            "\n",
            "100%|██████████| 5/5 [00:00<00:00, 201.78it/s]\n"
          ],
          "name": "stderr"
        },
        {
          "output_type": "stream",
          "text": [
            "\rEpoch:   8 AUROC: 0.439\n",
            "\rEpoch:   9 AUROC: 0.439\n"
          ],
          "name": "stdout"
        },
        {
          "output_type": "stream",
          "text": [
            "100%|██████████| 5/5 [00:00<00:00, 27.46it/s]\n",
            "100%|██████████| 5/5 [00:00<00:00, 212.21it/s]\n",
            "100%|██████████| 5/5 [00:00<00:00, 172.41it/s]"
          ],
          "name": "stderr"
        },
        {
          "output_type": "stream",
          "text": [
            "\rEpoch:   0 AUROC: 0.771\n",
            "\rEpoch:   1 AUROC: 0.771\n"
          ],
          "name": "stdout"
        },
        {
          "output_type": "stream",
          "text": [
            "\n",
            "100%|██████████| 5/5 [00:00<00:00, 186.50it/s]\n",
            "100%|██████████| 5/5 [00:00<00:00, 222.38it/s]"
          ],
          "name": "stderr"
        },
        {
          "output_type": "stream",
          "text": [
            "\rEpoch:   2 AUROC: 0.771\n",
            "\rEpoch:   3 AUROC: 0.771\n"
          ],
          "name": "stdout"
        },
        {
          "output_type": "stream",
          "text": [
            "\n",
            "100%|██████████| 5/5 [00:00<00:00, 110.01it/s]\n",
            "  0%|          | 0/5 [00:00<?, ?it/s]"
          ],
          "name": "stderr"
        },
        {
          "output_type": "stream",
          "text": [
            "\rEpoch:   4 AUROC: 0.771\n",
            "\rEpoch:   5 AUROC: 0.771\n"
          ],
          "name": "stdout"
        },
        {
          "output_type": "stream",
          "text": [
            "100%|██████████| 5/5 [00:00<00:00, 182.75it/s]\n",
            "100%|██████████| 5/5 [00:00<00:00, 198.69it/s]\n",
            "100%|██████████| 5/5 [00:00<00:00, 223.41it/s]"
          ],
          "name": "stderr"
        },
        {
          "output_type": "stream",
          "text": [
            "\rEpoch:   6 AUROC: 0.771\n",
            "\rEpoch:   7 AUROC: 0.771\n"
          ],
          "name": "stdout"
        },
        {
          "output_type": "stream",
          "text": [
            "\n",
            "100%|██████████| 5/5 [00:00<00:00, 146.15it/s]\n"
          ],
          "name": "stderr"
        },
        {
          "output_type": "stream",
          "text": [
            "\rEpoch:   8 AUROC: 0.771\n",
            "\rEpoch:   9 AUROC: 0.771\n"
          ],
          "name": "stdout"
        },
        {
          "output_type": "stream",
          "text": [
            "100%|██████████| 5/5 [00:00<00:00, 27.18it/s]\n",
            "100%|██████████| 5/5 [00:00<00:00, 212.12it/s]\n",
            "100%|██████████| 5/5 [00:00<00:00, 196.95it/s]"
          ],
          "name": "stderr"
        },
        {
          "output_type": "stream",
          "text": [
            "\rEpoch:   0 AUROC: 0.539\n",
            "\rEpoch:   1 AUROC: 0.539\n"
          ],
          "name": "stdout"
        },
        {
          "output_type": "stream",
          "text": [
            "\n",
            "100%|██████████| 5/5 [00:00<00:00, 206.13it/s]\n",
            "100%|██████████| 5/5 [00:00<00:00, 244.69it/s]"
          ],
          "name": "stderr"
        },
        {
          "output_type": "stream",
          "text": [
            "\rEpoch:   2 AUROC: 0.539\n",
            "\rEpoch:   3 AUROC: 0.539\n"
          ],
          "name": "stdout"
        },
        {
          "output_type": "stream",
          "text": [
            "\n",
            "100%|██████████| 5/5 [00:00<00:00, 215.05it/s]\n",
            "100%|██████████| 5/5 [00:00<00:00, 236.28it/s]"
          ],
          "name": "stderr"
        },
        {
          "output_type": "stream",
          "text": [
            "\rEpoch:   4 AUROC: 0.539\n",
            "\rEpoch:   5 AUROC: 0.539\n"
          ],
          "name": "stdout"
        },
        {
          "output_type": "stream",
          "text": [
            "\n",
            "100%|██████████| 5/5 [00:00<00:00, 124.41it/s]\n",
            "  0%|          | 0/5 [00:00<?, ?it/s]"
          ],
          "name": "stderr"
        },
        {
          "output_type": "stream",
          "text": [
            "\rEpoch:   6 AUROC: 0.539\n",
            "\rEpoch:   7 AUROC: 0.539\n"
          ],
          "name": "stdout"
        },
        {
          "output_type": "stream",
          "text": [
            "100%|██████████| 5/5 [00:00<00:00, 142.97it/s]\n",
            "100%|██████████| 5/5 [00:00<00:00, 200.06it/s]\n"
          ],
          "name": "stderr"
        },
        {
          "output_type": "stream",
          "text": [
            "\rEpoch:   8 AUROC: 0.539\n",
            "\rEpoch:   9 AUROC: 0.539\n"
          ],
          "name": "stdout"
        },
        {
          "output_type": "stream",
          "text": [
            "100%|██████████| 4/4 [00:00<00:00, 23.26it/s]\n",
            "100%|██████████| 4/4 [00:00<00:00, 174.01it/s]\n",
            "100%|██████████| 4/4 [00:00<00:00, 194.28it/s]"
          ],
          "name": "stderr"
        },
        {
          "output_type": "stream",
          "text": [
            "\rEpoch:   0 AUROC: 0.492\n",
            "\rEpoch:   1 AUROC: 0.492\n"
          ],
          "name": "stdout"
        },
        {
          "output_type": "stream",
          "text": [
            "\n",
            "100%|██████████| 4/4 [00:00<00:00, 178.66it/s]\n",
            "100%|██████████| 4/4 [00:00<00:00, 146.23it/s]"
          ],
          "name": "stderr"
        },
        {
          "output_type": "stream",
          "text": [
            "\rEpoch:   2 AUROC: 0.492\n",
            "\rEpoch:   3 AUROC: 0.492\n"
          ],
          "name": "stdout"
        },
        {
          "output_type": "stream",
          "text": [
            "\n",
            "100%|██████████| 4/4 [00:00<00:00, 183.97it/s]\n",
            "100%|██████████| 4/4 [00:00<00:00, 197.03it/s]"
          ],
          "name": "stderr"
        },
        {
          "output_type": "stream",
          "text": [
            "\rEpoch:   4 AUROC: 0.492\n",
            "\rEpoch:   5 AUROC: 0.492\n"
          ],
          "name": "stdout"
        },
        {
          "output_type": "stream",
          "text": [
            "\n",
            "100%|██████████| 4/4 [00:00<00:00, 176.26it/s]\n",
            "100%|██████████| 4/4 [00:00<00:00, 192.87it/s]"
          ],
          "name": "stderr"
        },
        {
          "output_type": "stream",
          "text": [
            "\rEpoch:   6 AUROC: 0.492\n",
            "\rEpoch:   7 AUROC: 0.492\n"
          ],
          "name": "stdout"
        },
        {
          "output_type": "stream",
          "text": [
            "\n",
            "100%|██████████| 4/4 [00:00<00:00, 173.11it/s]\n"
          ],
          "name": "stderr"
        },
        {
          "output_type": "stream",
          "text": [
            "\rEpoch:   8 AUROC: 0.492\n",
            "\rEpoch:   9 AUROC: 0.492\n"
          ],
          "name": "stdout"
        },
        {
          "output_type": "stream",
          "text": [
            "100%|██████████| 5/5 [00:00<00:00, 22.51it/s]\n",
            "100%|██████████| 5/5 [00:00<00:00, 201.44it/s]\n",
            "100%|██████████| 5/5 [00:00<00:00, 215.15it/s]"
          ],
          "name": "stderr"
        },
        {
          "output_type": "stream",
          "text": [
            "\rEpoch:   0 AUROC: 0.705\n",
            "\rEpoch:   1 AUROC: 0.705\n"
          ],
          "name": "stdout"
        },
        {
          "output_type": "stream",
          "text": [
            "\n",
            "100%|██████████| 5/5 [00:00<00:00, 132.44it/s]\n",
            "100%|██████████| 5/5 [00:00<00:00, 218.85it/s]"
          ],
          "name": "stderr"
        },
        {
          "output_type": "stream",
          "text": [
            "\rEpoch:   2 AUROC: 0.705\n",
            "\rEpoch:   3 AUROC: 0.705\n"
          ],
          "name": "stdout"
        },
        {
          "output_type": "stream",
          "text": [
            "\n",
            "100%|██████████| 5/5 [00:00<00:00, 247.68it/s]\n",
            "100%|██████████| 5/5 [00:00<00:00, 210.02it/s]"
          ],
          "name": "stderr"
        },
        {
          "output_type": "stream",
          "text": [
            "\rEpoch:   4 AUROC: 0.705\n",
            "\rEpoch:   5 AUROC: 0.705\n"
          ],
          "name": "stdout"
        },
        {
          "output_type": "stream",
          "text": [
            "\n",
            "100%|██████████| 5/5 [00:00<00:00, 225.71it/s]\n",
            "100%|██████████| 5/5 [00:00<00:00, 206.13it/s]"
          ],
          "name": "stderr"
        },
        {
          "output_type": "stream",
          "text": [
            "\rEpoch:   6 AUROC: 0.705\n",
            "\rEpoch:   7 AUROC: 0.705\n"
          ],
          "name": "stdout"
        },
        {
          "output_type": "stream",
          "text": [
            "\n",
            "100%|██████████| 5/5 [00:00<00:00, 216.93it/s]\n"
          ],
          "name": "stderr"
        },
        {
          "output_type": "stream",
          "text": [
            "\rEpoch:   8 AUROC: 0.705\n",
            "\rEpoch:   9 AUROC: 0.705\n"
          ],
          "name": "stdout"
        },
        {
          "output_type": "stream",
          "text": [
            "100%|██████████| 5/5 [00:00<00:00, 21.62it/s]\n",
            "100%|██████████| 5/5 [00:00<00:00, 199.35it/s]\n",
            "100%|██████████| 5/5 [00:00<00:00, 147.71it/s]"
          ],
          "name": "stderr"
        },
        {
          "output_type": "stream",
          "text": [
            "\rEpoch:   0 AUROC: 0.200\n",
            "\rEpoch:   1 AUROC: 0.200\n"
          ],
          "name": "stdout"
        },
        {
          "output_type": "stream",
          "text": [
            "\n",
            "100%|██████████| 5/5 [00:00<00:00, 191.39it/s]\n",
            "100%|██████████| 5/5 [00:00<00:00, 204.41it/s]"
          ],
          "name": "stderr"
        },
        {
          "output_type": "stream",
          "text": [
            "\rEpoch:   2 AUROC: 0.200\n",
            "\rEpoch:   3 AUROC: 0.200\n"
          ],
          "name": "stdout"
        },
        {
          "output_type": "stream",
          "text": [
            "\n",
            "100%|██████████| 5/5 [00:00<00:00, 148.18it/s]\n",
            "100%|██████████| 5/5 [00:00<00:00, 173.05it/s]"
          ],
          "name": "stderr"
        },
        {
          "output_type": "stream",
          "text": [
            "\rEpoch:   4 AUROC: 0.200\n",
            "\rEpoch:   5 AUROC: 0.200\n"
          ],
          "name": "stdout"
        },
        {
          "output_type": "stream",
          "text": [
            "\n",
            "100%|██████████| 5/5 [00:00<00:00, 177.80it/s]\n",
            "100%|██████████| 5/5 [00:00<00:00, 220.73it/s]"
          ],
          "name": "stderr"
        },
        {
          "output_type": "stream",
          "text": [
            "\rEpoch:   6 AUROC: 0.200\n",
            "\rEpoch:   7 AUROC: 0.200\n"
          ],
          "name": "stdout"
        },
        {
          "output_type": "stream",
          "text": [
            "\n",
            "100%|██████████| 5/5 [00:00<00:00, 180.97it/s]\n"
          ],
          "name": "stderr"
        },
        {
          "output_type": "stream",
          "text": [
            "\rEpoch:   8 AUROC: 0.200\n",
            "\rEpoch:   9 AUROC: 0.200\n"
          ],
          "name": "stdout"
        },
        {
          "output_type": "stream",
          "text": [
            "100%|██████████| 5/5 [00:00<00:00, 24.08it/s]\n",
            "100%|██████████| 5/5 [00:00<00:00, 180.14it/s]\n",
            "  0%|          | 0/5 [00:00<?, ?it/s]"
          ],
          "name": "stderr"
        },
        {
          "output_type": "stream",
          "text": [
            "\rEpoch:   0 AUROC: 0.386\n",
            "\rEpoch:   1 AUROC: 0.386\n"
          ],
          "name": "stdout"
        },
        {
          "output_type": "stream",
          "text": [
            "100%|██████████| 5/5 [00:00<00:00, 133.06it/s]\n",
            "100%|██████████| 5/5 [00:00<00:00, 203.71it/s]\n",
            "100%|██████████| 5/5 [00:00<00:00, 118.12it/s]"
          ],
          "name": "stderr"
        },
        {
          "output_type": "stream",
          "text": [
            "\rEpoch:   2 AUROC: 0.386\n",
            "\rEpoch:   3 AUROC: 0.386\n"
          ],
          "name": "stdout"
        },
        {
          "output_type": "stream",
          "text": [
            "\n",
            "100%|██████████| 5/5 [00:00<00:00, 182.54it/s]\n",
            "100%|██████████| 5/5 [00:00<00:00, 181.83it/s]"
          ],
          "name": "stderr"
        },
        {
          "output_type": "stream",
          "text": [
            "\rEpoch:   4 AUROC: 0.386\n",
            "\rEpoch:   5 AUROC: 0.386\n"
          ],
          "name": "stdout"
        },
        {
          "output_type": "stream",
          "text": [
            "\n",
            "100%|██████████| 5/5 [00:00<00:00, 176.56it/s]\n",
            "100%|██████████| 5/5 [00:00<00:00, 205.34it/s]"
          ],
          "name": "stderr"
        },
        {
          "output_type": "stream",
          "text": [
            "\rEpoch:   6 AUROC: 0.386\n",
            "\rEpoch:   7 AUROC: 0.386\n"
          ],
          "name": "stdout"
        },
        {
          "output_type": "stream",
          "text": [
            "\n",
            "100%|██████████| 5/5 [00:00<00:00, 209.59it/s]\n"
          ],
          "name": "stderr"
        },
        {
          "output_type": "stream",
          "text": [
            "\rEpoch:   8 AUROC: 0.386\n",
            "\rEpoch:   9 AUROC: 0.386\n"
          ],
          "name": "stdout"
        },
        {
          "output_type": "stream",
          "text": [
            "100%|██████████| 5/5 [00:00<00:00, 24.42it/s]\n",
            "100%|██████████| 5/5 [00:00<00:00, 177.88it/s]\n",
            "100%|██████████| 5/5 [00:00<00:00, 193.89it/s]"
          ],
          "name": "stderr"
        },
        {
          "output_type": "stream",
          "text": [
            "\rEpoch:   0 AUROC: 0.445\n",
            "\rEpoch:   1 AUROC: 0.452\n"
          ],
          "name": "stdout"
        },
        {
          "output_type": "stream",
          "text": [
            "\n",
            "100%|██████████| 5/5 [00:00<00:00, 193.11it/s]\n",
            "100%|██████████| 5/5 [00:00<00:00, 203.70it/s]"
          ],
          "name": "stderr"
        },
        {
          "output_type": "stream",
          "text": [
            "\rEpoch:   2 AUROC: 0.460\n",
            "\rEpoch:   3 AUROC: 0.467\n"
          ],
          "name": "stdout"
        },
        {
          "output_type": "stream",
          "text": [
            "\n",
            "100%|██████████| 5/5 [00:00<00:00, 206.05it/s]\n",
            "100%|██████████| 5/5 [00:00<00:00, 166.27it/s]"
          ],
          "name": "stderr"
        },
        {
          "output_type": "stream",
          "text": [
            "\rEpoch:   4 AUROC: 0.472\n",
            "\rEpoch:   5 AUROC: 0.476\n"
          ],
          "name": "stdout"
        },
        {
          "output_type": "stream",
          "text": [
            "\n",
            "100%|██████████| 5/5 [00:00<00:00, 197.39it/s]\n",
            "100%|██████████| 5/5 [00:00<00:00, 189.77it/s]"
          ],
          "name": "stderr"
        },
        {
          "output_type": "stream",
          "text": [
            "\rEpoch:   6 AUROC: 0.481\n",
            "\rEpoch:   7 AUROC: 0.496\n"
          ],
          "name": "stdout"
        },
        {
          "output_type": "stream",
          "text": [
            "\n",
            "100%|██████████| 5/5 [00:00<00:00, 194.48it/s]\n"
          ],
          "name": "stderr"
        },
        {
          "output_type": "stream",
          "text": [
            "\rEpoch:   8 AUROC: 0.624\n",
            "\rEpoch:   9 AUROC: 0.585\n"
          ],
          "name": "stdout"
        },
        {
          "output_type": "stream",
          "text": [
            "100%|██████████| 5/5 [00:00<00:00, 20.62it/s]\n",
            "100%|██████████| 5/5 [00:00<00:00, 193.30it/s]\n",
            "100%|██████████| 5/5 [00:00<00:00, 205.83it/s]"
          ],
          "name": "stderr"
        },
        {
          "output_type": "stream",
          "text": [
            "\rEpoch:   0 AUROC: 0.601\n",
            "\rEpoch:   1 AUROC: 0.575\n"
          ],
          "name": "stdout"
        },
        {
          "output_type": "stream",
          "text": [
            "\n",
            "100%|██████████| 5/5 [00:00<00:00, 178.60it/s]\n",
            "100%|██████████| 5/5 [00:00<00:00, 187.66it/s]"
          ],
          "name": "stderr"
        },
        {
          "output_type": "stream",
          "text": [
            "\rEpoch:   2 AUROC: 0.602\n",
            "\rEpoch:   3 AUROC: 0.623\n"
          ],
          "name": "stdout"
        },
        {
          "output_type": "stream",
          "text": [
            "\n",
            "100%|██████████| 5/5 [00:00<00:00, 202.49it/s]\n",
            "100%|██████████| 5/5 [00:00<00:00, 202.56it/s]"
          ],
          "name": "stderr"
        },
        {
          "output_type": "stream",
          "text": [
            "\rEpoch:   4 AUROC: 0.639\n",
            "\rEpoch:   5 AUROC: 0.654\n"
          ],
          "name": "stdout"
        },
        {
          "output_type": "stream",
          "text": [
            "\n",
            "100%|██████████| 5/5 [00:00<00:00, 198.07it/s]\n",
            "100%|██████████| 5/5 [00:00<00:00, 170.45it/s]"
          ],
          "name": "stderr"
        },
        {
          "output_type": "stream",
          "text": [
            "\rEpoch:   6 AUROC: 0.666\n",
            "\rEpoch:   7 AUROC: 0.679\n"
          ],
          "name": "stdout"
        },
        {
          "output_type": "stream",
          "text": [
            "\n",
            "100%|██████████| 5/5 [00:00<00:00, 186.17it/s]\n"
          ],
          "name": "stderr"
        },
        {
          "output_type": "stream",
          "text": [
            "Epoch:   8 AUROC: 0.693\n",
            "Epoch:   9 AUROC: 0.714\n"
          ],
          "name": "stdout"
        },
        {
          "output_type": "stream",
          "text": [
            "100%|██████████| 5/5 [00:00<00:00, 20.94it/s]\n",
            "100%|██████████| 5/5 [00:00<00:00, 177.95it/s]\n",
            "100%|██████████| 5/5 [00:00<00:00, 211.72it/s]"
          ],
          "name": "stderr"
        },
        {
          "output_type": "stream",
          "text": [
            "\rEpoch:   0 AUROC: 0.757\n",
            "\rEpoch:   1 AUROC: 0.757\n"
          ],
          "name": "stdout"
        },
        {
          "output_type": "stream",
          "text": [
            "\n",
            "100%|██████████| 5/5 [00:00<00:00, 194.30it/s]\n",
            "100%|██████████| 5/5 [00:00<00:00, 206.45it/s]"
          ],
          "name": "stderr"
        },
        {
          "output_type": "stream",
          "text": [
            "\rEpoch:   2 AUROC: 0.757\n",
            "\rEpoch:   3 AUROC: 0.757\n"
          ],
          "name": "stdout"
        },
        {
          "output_type": "stream",
          "text": [
            "\n",
            "100%|██████████| 5/5 [00:00<00:00, 215.28it/s]\n",
            "100%|██████████| 5/5 [00:00<00:00, 207.21it/s]"
          ],
          "name": "stderr"
        },
        {
          "output_type": "stream",
          "text": [
            "\rEpoch:   4 AUROC: 0.757\n",
            "\rEpoch:   5 AUROC: 0.757\n"
          ],
          "name": "stdout"
        },
        {
          "output_type": "stream",
          "text": [
            "\n",
            "100%|██████████| 5/5 [00:00<00:00, 213.68it/s]\n",
            "100%|██████████| 5/5 [00:00<00:00, 193.15it/s]"
          ],
          "name": "stderr"
        },
        {
          "output_type": "stream",
          "text": [
            "\rEpoch:   6 AUROC: 0.757\n",
            "\rEpoch:   7 AUROC: 0.757\n"
          ],
          "name": "stdout"
        },
        {
          "output_type": "stream",
          "text": [
            "\n",
            "100%|██████████| 5/5 [00:00<00:00, 179.94it/s]\n"
          ],
          "name": "stderr"
        },
        {
          "output_type": "stream",
          "text": [
            "\rEpoch:   8 AUROC: 0.757\n",
            "\rEpoch:   9 AUROC: 0.757\n"
          ],
          "name": "stdout"
        },
        {
          "output_type": "stream",
          "text": [
            "100%|██████████| 5/5 [00:00<00:00, 24.26it/s]\n",
            "100%|██████████| 5/5 [00:00<00:00, 149.44it/s]\n",
            "100%|██████████| 5/5 [00:00<00:00, 193.14it/s]"
          ],
          "name": "stderr"
        },
        {
          "output_type": "stream",
          "text": [
            "\rEpoch:   0 AUROC: 0.501\n",
            "\rEpoch:   1 AUROC: 0.501\n"
          ],
          "name": "stdout"
        },
        {
          "output_type": "stream",
          "text": [
            "\n",
            "100%|██████████| 5/5 [00:00<00:00, 181.84it/s]\n",
            "100%|██████████| 5/5 [00:00<00:00, 192.63it/s]"
          ],
          "name": "stderr"
        },
        {
          "output_type": "stream",
          "text": [
            "\rEpoch:   2 AUROC: 0.501\n",
            "\rEpoch:   3 AUROC: 0.501\n"
          ],
          "name": "stdout"
        },
        {
          "output_type": "stream",
          "text": [
            "\n",
            "100%|██████████| 5/5 [00:00<00:00, 200.74it/s]\n",
            "100%|██████████| 5/5 [00:00<00:00, 206.52it/s]"
          ],
          "name": "stderr"
        },
        {
          "output_type": "stream",
          "text": [
            "\rEpoch:   4 AUROC: 0.501\n",
            "\rEpoch:   5 AUROC: 0.501\n"
          ],
          "name": "stdout"
        },
        {
          "output_type": "stream",
          "text": [
            "\n",
            "100%|██████████| 5/5 [00:00<00:00, 164.04it/s]\n",
            "100%|██████████| 5/5 [00:00<00:00, 195.48it/s]"
          ],
          "name": "stderr"
        },
        {
          "output_type": "stream",
          "text": [
            "\rEpoch:   6 AUROC: 0.501\n",
            "\rEpoch:   7 AUROC: 0.501\n"
          ],
          "name": "stdout"
        },
        {
          "output_type": "stream",
          "text": [
            "\n",
            "100%|██████████| 5/5 [00:00<00:00, 198.75it/s]\n"
          ],
          "name": "stderr"
        },
        {
          "output_type": "stream",
          "text": [
            "\rEpoch:   8 AUROC: 0.501\n",
            "\rEpoch:   9 AUROC: 0.501\n"
          ],
          "name": "stdout"
        },
        {
          "output_type": "stream",
          "text": [
            "100%|██████████| 5/5 [00:00<00:00, 22.04it/s]\n",
            "100%|██████████| 5/5 [00:00<00:00, 182.31it/s]\n",
            "100%|██████████| 5/5 [00:00<00:00, 194.02it/s]"
          ],
          "name": "stderr"
        },
        {
          "output_type": "stream",
          "text": [
            "\rEpoch:   0 AUROC: 0.684\n",
            "\rEpoch:   1 AUROC: 0.691\n"
          ],
          "name": "stdout"
        },
        {
          "output_type": "stream",
          "text": [
            "\n",
            "100%|██████████| 5/5 [00:00<00:00, 215.73it/s]\n",
            "100%|██████████| 5/5 [00:00<00:00, 204.65it/s]"
          ],
          "name": "stderr"
        },
        {
          "output_type": "stream",
          "text": [
            "\rEpoch:   2 AUROC: 0.695\n",
            "\rEpoch:   3 AUROC: 0.695\n"
          ],
          "name": "stdout"
        },
        {
          "output_type": "stream",
          "text": [
            "\n",
            "100%|██████████| 5/5 [00:00<00:00, 204.30it/s]\n",
            "100%|██████████| 5/5 [00:00<00:00, 194.64it/s]"
          ],
          "name": "stderr"
        },
        {
          "output_type": "stream",
          "text": [
            "\rEpoch:   4 AUROC: 0.689\n",
            "\rEpoch:   5 AUROC: 0.678\n"
          ],
          "name": "stdout"
        },
        {
          "output_type": "stream",
          "text": [
            "\n",
            "100%|██████████| 5/5 [00:00<00:00, 214.15it/s]\n",
            "100%|██████████| 5/5 [00:00<00:00, 197.27it/s]"
          ],
          "name": "stderr"
        },
        {
          "output_type": "stream",
          "text": [
            "\rEpoch:   6 AUROC: 0.656\n",
            "\rEpoch:   7 AUROC: 0.555\n"
          ],
          "name": "stdout"
        },
        {
          "output_type": "stream",
          "text": [
            "\n",
            "100%|██████████| 5/5 [00:00<00:00, 196.40it/s]\n"
          ],
          "name": "stderr"
        },
        {
          "output_type": "stream",
          "text": [
            "\rEpoch:   8 AUROC: 0.239\n",
            "\rEpoch:   9 AUROC: 0.251\n"
          ],
          "name": "stdout"
        },
        {
          "output_type": "stream",
          "text": [
            "100%|██████████| 5/5 [00:00<00:00, 21.48it/s]\n",
            "100%|██████████| 5/5 [00:00<00:00, 190.71it/s]\n",
            "100%|██████████| 5/5 [00:00<00:00, 212.32it/s]"
          ],
          "name": "stderr"
        },
        {
          "output_type": "stream",
          "text": [
            "\rEpoch:   0 AUROC: 0.374\n",
            "\rEpoch:   1 AUROC: 0.374\n"
          ],
          "name": "stdout"
        },
        {
          "output_type": "stream",
          "text": [
            "\n",
            "100%|██████████| 5/5 [00:00<00:00, 152.46it/s]\n",
            "100%|██████████| 5/5 [00:00<00:00, 196.98it/s]"
          ],
          "name": "stderr"
        },
        {
          "output_type": "stream",
          "text": [
            "\rEpoch:   2 AUROC: 0.374\n",
            "\rEpoch:   3 AUROC: 0.374\n"
          ],
          "name": "stdout"
        },
        {
          "output_type": "stream",
          "text": [
            "\n",
            "100%|██████████| 5/5 [00:00<00:00, 193.65it/s]\n",
            "100%|██████████| 5/5 [00:00<00:00, 179.94it/s]"
          ],
          "name": "stderr"
        },
        {
          "output_type": "stream",
          "text": [
            "\rEpoch:   4 AUROC: 0.374\n",
            "\rEpoch:   5 AUROC: 0.374\n"
          ],
          "name": "stdout"
        },
        {
          "output_type": "stream",
          "text": [
            "\n",
            "100%|██████████| 5/5 [00:00<00:00, 231.78it/s]\n",
            "100%|██████████| 5/5 [00:00<00:00, 192.39it/s]"
          ],
          "name": "stderr"
        },
        {
          "output_type": "stream",
          "text": [
            "\rEpoch:   6 AUROC: 0.374\n",
            "\rEpoch:   7 AUROC: 0.374\n"
          ],
          "name": "stdout"
        },
        {
          "output_type": "stream",
          "text": [
            "\n",
            "100%|██████████| 5/5 [00:00<00:00, 212.65it/s]\n"
          ],
          "name": "stderr"
        },
        {
          "output_type": "stream",
          "text": [
            "\rEpoch:   8 AUROC: 0.374\n",
            "\rEpoch:   9 AUROC: 0.374\n"
          ],
          "name": "stdout"
        },
        {
          "output_type": "stream",
          "text": [
            "100%|██████████| 5/5 [00:00<00:00, 22.98it/s]\n",
            "100%|██████████| 5/5 [00:00<00:00, 160.32it/s]\n",
            "100%|██████████| 5/5 [00:00<00:00, 205.06it/s]"
          ],
          "name": "stderr"
        },
        {
          "output_type": "stream",
          "text": [
            "\rEpoch:   0 AUROC: 0.464\n",
            "\rEpoch:   1 AUROC: 0.464\n"
          ],
          "name": "stdout"
        },
        {
          "output_type": "stream",
          "text": [
            "\n",
            "100%|██████████| 5/5 [00:00<00:00, 213.64it/s]\n",
            "100%|██████████| 5/5 [00:00<00:00, 178.25it/s]"
          ],
          "name": "stderr"
        },
        {
          "output_type": "stream",
          "text": [
            "\rEpoch:   2 AUROC: 0.464\n",
            "\rEpoch:   3 AUROC: 0.464\n"
          ],
          "name": "stdout"
        },
        {
          "output_type": "stream",
          "text": [
            "\n",
            "100%|██████████| 5/5 [00:00<00:00, 182.47it/s]\n",
            "  0%|          | 0/5 [00:00<?, ?it/s]"
          ],
          "name": "stderr"
        },
        {
          "output_type": "stream",
          "text": [
            "\rEpoch:   4 AUROC: 0.464\n",
            "\rEpoch:   5 AUROC: 0.464\n"
          ],
          "name": "stdout"
        },
        {
          "output_type": "stream",
          "text": [
            "100%|██████████| 5/5 [00:00<00:00, 163.95it/s]\n",
            "100%|██████████| 5/5 [00:00<00:00, 227.59it/s]\n",
            "100%|██████████| 5/5 [00:00<00:00, 189.09it/s]"
          ],
          "name": "stderr"
        },
        {
          "output_type": "stream",
          "text": [
            "\rEpoch:   6 AUROC: 0.464\n",
            "\rEpoch:   7 AUROC: 0.464\n"
          ],
          "name": "stdout"
        },
        {
          "output_type": "stream",
          "text": [
            "\n",
            "100%|██████████| 5/5 [00:00<00:00, 219.90it/s]\n"
          ],
          "name": "stderr"
        },
        {
          "output_type": "stream",
          "text": [
            "\rEpoch:   8 AUROC: 0.464\n",
            "\rEpoch:   9 AUROC: 0.464\n"
          ],
          "name": "stdout"
        }
      ]
    },
    {
      "cell_type": "code",
      "metadata": {
        "colab": {
          "base_uri": "https://localhost:8080/"
        },
        "id": "XayCFKoL1leb",
        "outputId": "795cea67-f913-4d95-cb0f-1a9375fe6dc3"
      },
      "source": [
        "print(\"Accuracy: \",np.array(predictions).mean())"
      ],
      "execution_count": 21,
      "outputs": [
        {
          "output_type": "stream",
          "text": [
            "0.4821970684029112\n"
          ],
          "name": "stdout"
        }
      ]
    }
  ]
}