{
  "nbformat": 4,
  "nbformat_minor": 0,
  "metadata": {
    "colab": {
      "name": "OneClassSlab_letter.ipynb",
      "provenance": []
    },
    "kernelspec": {
      "name": "python3",
      "display_name": "Python 3"
    },
    "language_info": {
      "name": "python"
    }
  },
  "cells": [
    {
      "cell_type": "code",
      "metadata": {
        "id": "LziIeKppBqjl"
      },
      "source": [
        ""
      ],
      "execution_count": null,
      "outputs": []
    },
    {
      "cell_type": "code",
      "metadata": {
        "id": "jlBjGaTAoY4b"
      },
      "source": [
        "import pandas as pd\n",
        "data = pd.read_csv(\"/content/letter-recognition.data\")"
      ],
      "execution_count": null,
      "outputs": []
    },
    {
      "cell_type": "code",
      "metadata": {
        "id": "M9k9cZAYcsEf"
      },
      "source": [
        "train_data = data.sample(frac=0.7)\n",
        "test_data = data.drop(train_data.index)"
      ],
      "execution_count": null,
      "outputs": []
    },
    {
      "cell_type": "code",
      "metadata": {
        "id": "EnUOgprAB9qX"
      },
      "source": [
        "def label_data(label):\n",
        "  labels = np.array(train_data['Label'].unique())\n",
        "  df = []\n",
        "  for l in labels:\n",
        "    if(l==label):\n",
        "      df.append(train_data[train_data['Label']==l])\n",
        "    else:\n",
        "      df.append(train_data[train_data['Label']==l].sample(frac=0.04))\n",
        "  return pd.concat(df)\n",
        "\n",
        "def label_data2(label):\n",
        "  return train_data"
      ],
      "execution_count": null,
      "outputs": []
    },
    {
      "cell_type": "code",
      "metadata": {
        "id": "LMucxKWlB9qZ"
      },
      "source": [
        "from sklearn.svm import OneClassSVM\n",
        "import numpy as np\n",
        "OCSVM_for_label = {}\n",
        "int_to_letter = {}\n",
        "for i,l in enumerate(np.array(train_data['Label'].unique())):\n",
        "  int_to_letter[i]=l\n",
        "  data_label = label_data(l)\n",
        "  # data_label['Label'].replace()\n",
        "  data2_label = label_data2(l)\n",
        "  # data2_label['Label'].hist()\n",
        "  # data_label['Label'].hist()\n",
        "  # break\n",
        "  # print(data2_label)\n",
        "  clf = OneClassSVM(gamma='auto').fit(data_label.drop('Label',axis=1))\n",
        "  clf2 = OneClassSVM(gamma='auto').fit(data2_label.drop('Label',axis=1))\n",
        "  OCSVM_for_label[l]=(clf,clf2)"
      ],
      "execution_count": null,
      "outputs": []
    },
    {
      "cell_type": "code",
      "metadata": {
        "id": "B7RE3wMMB9qe"
      },
      "source": [
        "predictions = []\n",
        "for let in OCSVM_for_label:\n",
        "  predictions.append(-(OCSVM_for_label[let][0].decision_function(test_data.drop('Label',axis=1)))*(OCSVM_for_label[let][1].decision_function(test_data.drop('Label',axis=1))))"
      ],
      "execution_count": null,
      "outputs": []
    },
    {
      "cell_type": "code",
      "metadata": {
        "id": "iQRwN0zJB9qf"
      },
      "source": [
        "predictions = np.array(predictions).T"
      ],
      "execution_count": null,
      "outputs": []
    },
    {
      "cell_type": "code",
      "metadata": {
        "id": "6WMGmbtlB9qh"
      },
      "source": [
        "ans = []\n",
        "for i,pred in enumerate(predictions):\n",
        "  ans.append(int_to_letter[pred.argmax()])"
      ],
      "execution_count": null,
      "outputs": []
    },
    {
      "cell_type": "code",
      "metadata": {
        "colab": {
          "base_uri": "https://localhost:8080/"
        },
        "id": "SL_d9rQRB9qj",
        "outputId": "8aee0b7d-9c4b-4524-a829-9be7aee5ed51"
      },
      "source": [
        "from sklearn.metrics import classification_report\n",
        "print(classification_report(test_data['Label'], ans))"
      ],
      "execution_count": null,
      "outputs": [
        {
          "output_type": "stream",
          "text": [
            "              precision    recall  f1-score   support\n",
            "\n",
            "           A       0.65      0.59      0.62       227\n",
            "           B       0.16      0.20      0.18       260\n",
            "           C       0.40      0.59      0.48       212\n",
            "           D       0.36      0.32      0.34       245\n",
            "           E       0.23      0.29      0.25       216\n",
            "           F       0.42      0.37      0.39       236\n",
            "           G       0.34      0.23      0.27       235\n",
            "           H       0.75      0.35      0.48       235\n",
            "           I       0.43      0.52      0.47       199\n",
            "           J       0.77      0.77      0.77       232\n",
            "           K       0.74      0.54      0.62       217\n",
            "           L       0.66      0.76      0.71       226\n",
            "           M       0.66      0.79      0.72       232\n",
            "           N       0.53      0.52      0.52       253\n",
            "           O       0.07      0.12      0.09       217\n",
            "           P       0.94      0.63      0.75       253\n",
            "           Q       0.77      0.45      0.56       249\n",
            "           R       0.24      0.33      0.28       226\n",
            "           S       0.71      0.49      0.58       219\n",
            "           T       0.48      0.52      0.50       239\n",
            "           U       0.35      0.54      0.42       239\n",
            "           V       0.42      0.46      0.44       220\n",
            "           W       0.74      0.69      0.71       236\n",
            "           X       0.22      0.19      0.20       234\n",
            "           Y       0.77      0.64      0.70       231\n",
            "           Z       0.69      0.60      0.64       212\n",
            "\n",
            "    accuracy                           0.48      6000\n",
            "   macro avg       0.52      0.48      0.49      6000\n",
            "weighted avg       0.52      0.48      0.49      6000\n",
            "\n"
          ],
          "name": "stdout"
        }
      ]
    },
    {
      "cell_type": "code",
      "metadata": {
        "id": "Wy4QRJk9_um9"
      },
      "source": [
        "def label_data(label):\n",
        "  labels = np.array(train_data['Label'].unique())\n",
        "  df = []\n",
        "  for l in labels:\n",
        "    if(l==label):\n",
        "      df.append(train_data[train_data['Label']==l])\n",
        "    else:\n",
        "      df.append(train_data[train_data['Label']==l].sample(frac=0.04))\n",
        "  return pd.concat(df)\n",
        "\n",
        "def label_data2(label):\n",
        "  return train_data"
      ],
      "execution_count": null,
      "outputs": []
    },
    {
      "cell_type": "code",
      "metadata": {
        "id": "PtdR_mvH_unB"
      },
      "source": [
        "from sklearn.svm import OneClassSVM\n",
        "import numpy as np\n",
        "OCSVM_for_label = {}\n",
        "int_to_letter = {}\n",
        "for i,l in enumerate(np.array(train_data['Label'].unique())):\n",
        "  int_to_letter[i]=l\n",
        "  data_label = label_data(l)\n",
        "  # data_label['Label'].replace()\n",
        "  data2_label = label_data2(l)\n",
        "  # data2_label['Label'].hist()\n",
        "  # data_label['Label'].hist()\n",
        "  # break\n",
        "  # print(data2_label)\n",
        "  clf = OneClassSVM(gamma='auto').fit(data_label.drop('Label',axis=1))\n",
        "  clf2 = OneClassSVM(gamma='auto').fit(data2_label.drop('Label',axis=1))\n",
        "  OCSVM_for_label[l]=(clf,clf2)"
      ],
      "execution_count": null,
      "outputs": []
    },
    {
      "cell_type": "code",
      "metadata": {
        "id": "0Td_q3mH_unE"
      },
      "source": [
        "predictions = []\n",
        "for let in OCSVM_for_label:\n",
        "  predictions.append(-(OCSVM_for_label[let][0].decision_function(test_data.drop('Label',axis=1)))*(OCSVM_for_label[let][1].decision_function(test_data.drop('Label',axis=1))))"
      ],
      "execution_count": null,
      "outputs": []
    },
    {
      "cell_type": "code",
      "metadata": {
        "id": "7Zn5O9_-_unF"
      },
      "source": [
        "predictions = np.array(predictions).T"
      ],
      "execution_count": null,
      "outputs": []
    },
    {
      "cell_type": "code",
      "metadata": {
        "id": "TxOBVbX7_unI"
      },
      "source": [
        "ans = []\n",
        "for i,pred in enumerate(predictions):\n",
        "  ans.append(int_to_letter[pred.argmax()])"
      ],
      "execution_count": null,
      "outputs": []
    },
    {
      "cell_type": "code",
      "metadata": {
        "colab": {
          "base_uri": "https://localhost:8080/"
        },
        "id": "g8aPYRBr_unZ",
        "outputId": "8aee0b7d-9c4b-4524-a829-9be7aee5ed51"
      },
      "source": [
        "from sklearn.metrics import classification_report\n",
        "print(classification_report(test_data['Label'], ans))"
      ],
      "execution_count": null,
      "outputs": [
        {
          "output_type": "stream",
          "text": [
            "              precision    recall  f1-score   support\n",
            "\n",
            "           A       0.65      0.59      0.62       227\n",
            "           B       0.16      0.20      0.18       260\n",
            "           C       0.40      0.59      0.48       212\n",
            "           D       0.36      0.32      0.34       245\n",
            "           E       0.23      0.29      0.25       216\n",
            "           F       0.42      0.37      0.39       236\n",
            "           G       0.34      0.23      0.27       235\n",
            "           H       0.75      0.35      0.48       235\n",
            "           I       0.43      0.52      0.47       199\n",
            "           J       0.77      0.77      0.77       232\n",
            "           K       0.74      0.54      0.62       217\n",
            "           L       0.66      0.76      0.71       226\n",
            "           M       0.66      0.79      0.72       232\n",
            "           N       0.53      0.52      0.52       253\n",
            "           O       0.07      0.12      0.09       217\n",
            "           P       0.94      0.63      0.75       253\n",
            "           Q       0.77      0.45      0.56       249\n",
            "           R       0.24      0.33      0.28       226\n",
            "           S       0.71      0.49      0.58       219\n",
            "           T       0.48      0.52      0.50       239\n",
            "           U       0.35      0.54      0.42       239\n",
            "           V       0.42      0.46      0.44       220\n",
            "           W       0.74      0.69      0.71       236\n",
            "           X       0.22      0.19      0.20       234\n",
            "           Y       0.77      0.64      0.70       231\n",
            "           Z       0.69      0.60      0.64       212\n",
            "\n",
            "    accuracy                           0.48      6000\n",
            "   macro avg       0.52      0.48      0.49      6000\n",
            "weighted avg       0.52      0.48      0.49      6000\n",
            "\n"
          ],
          "name": "stdout"
        }
      ]
    }
  ]
}