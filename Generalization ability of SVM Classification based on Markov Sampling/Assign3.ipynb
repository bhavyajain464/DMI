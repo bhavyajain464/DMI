{
  "nbformat": 4,
  "nbformat_minor": 0,
  "metadata": {
    "colab": {
      "name": "SVM.ipynb",
      "provenance": []
    },
    "kernelspec": {
      "name": "python3",
      "display_name": "Python 3"
    }
  },
  "cells": [
    {
      "cell_type": "code",
      "metadata": {
        "colab": {
          "base_uri": "https://localhost:8080/"
        },
        "id": "C3L9kktl9Ggs",
        "outputId": "1173c7b8-c8a1-44b2-d865-214a2546924e"
      },
      "source": [
        "! wget \"http://host.robots.ox.ac.uk/pascal/VOC/voc2012/VOCtrainval_11-May-2012.tar\""
      ],
      "execution_count": null,
      "outputs": [
        {
          "output_type": "stream",
          "text": [
            "--2021-03-14 08:58:31--  http://host.robots.ox.ac.uk/pascal/VOC/voc2012/VOCtrainval_11-May-2012.tar\n",
            "Resolving host.robots.ox.ac.uk (host.robots.ox.ac.uk)... 129.67.94.152\n",
            "Connecting to host.robots.ox.ac.uk (host.robots.ox.ac.uk)|129.67.94.152|:80... connected.\n",
            "HTTP request sent, awaiting response... 200 OK\n",
            "Length: 1999639040 (1.9G) [application/x-tar]\n",
            "Saving to: ‘VOCtrainval_11-May-2012.tar’\n",
            "\n",
            "VOCtrainval_11-May- 100%[===================>]   1.86G  5.04MB/s    in 6m 39s  \n",
            "\n",
            "2021-03-14 09:05:11 (4.78 MB/s) - ‘VOCtrainval_11-May-2012.tar’ saved [1999639040/1999639040]\n",
            "\n"
          ],
          "name": "stdout"
        }
      ]
    },
    {
      "cell_type": "code",
      "metadata": {
        "colab": {
          "base_uri": "https://localhost:8080/",
          "height": 573
        },
        "id": "782Mw_Jg9RN9",
        "outputId": "a9c074bb-8fc6-4a94-88e8-bb53c7617e68"
      },
      "source": [
        "from google.colab import drive\n",
        "drive.mount('/content/gdrive/')"
      ],
      "execution_count": 41,
      "outputs": [
        {
          "output_type": "error",
          "ename": "KeyboardInterrupt",
          "evalue": "ignored",
          "traceback": [
            "\u001b[0;31m---------------------------------------------------------------------------\u001b[0m",
            "\u001b[0;31mKeyboardInterrupt\u001b[0m                         Traceback (most recent call last)",
            "\u001b[0;32m/usr/local/lib/python3.7/dist-packages/ipykernel/kernelbase.py\u001b[0m in \u001b[0;36m_input_request\u001b[0;34m(self, prompt, ident, parent, password)\u001b[0m\n\u001b[1;32m    728\u001b[0m             \u001b[0;32mtry\u001b[0m\u001b[0;34m:\u001b[0m\u001b[0;34m\u001b[0m\u001b[0;34m\u001b[0m\u001b[0m\n\u001b[0;32m--> 729\u001b[0;31m                 \u001b[0mident\u001b[0m\u001b[0;34m,\u001b[0m \u001b[0mreply\u001b[0m \u001b[0;34m=\u001b[0m \u001b[0mself\u001b[0m\u001b[0;34m.\u001b[0m\u001b[0msession\u001b[0m\u001b[0;34m.\u001b[0m\u001b[0mrecv\u001b[0m\u001b[0;34m(\u001b[0m\u001b[0mself\u001b[0m\u001b[0;34m.\u001b[0m\u001b[0mstdin_socket\u001b[0m\u001b[0;34m,\u001b[0m \u001b[0;36m0\u001b[0m\u001b[0;34m)\u001b[0m\u001b[0;34m\u001b[0m\u001b[0;34m\u001b[0m\u001b[0m\n\u001b[0m\u001b[1;32m    730\u001b[0m             \u001b[0;32mexcept\u001b[0m \u001b[0mException\u001b[0m\u001b[0;34m:\u001b[0m\u001b[0;34m\u001b[0m\u001b[0;34m\u001b[0m\u001b[0m\n",
            "\u001b[0;32m/usr/local/lib/python3.7/dist-packages/jupyter_client/session.py\u001b[0m in \u001b[0;36mrecv\u001b[0;34m(self, socket, mode, content, copy)\u001b[0m\n\u001b[1;32m    802\u001b[0m         \u001b[0;32mtry\u001b[0m\u001b[0;34m:\u001b[0m\u001b[0;34m\u001b[0m\u001b[0;34m\u001b[0m\u001b[0m\n\u001b[0;32m--> 803\u001b[0;31m             \u001b[0mmsg_list\u001b[0m \u001b[0;34m=\u001b[0m \u001b[0msocket\u001b[0m\u001b[0;34m.\u001b[0m\u001b[0mrecv_multipart\u001b[0m\u001b[0;34m(\u001b[0m\u001b[0mmode\u001b[0m\u001b[0;34m,\u001b[0m \u001b[0mcopy\u001b[0m\u001b[0;34m=\u001b[0m\u001b[0mcopy\u001b[0m\u001b[0;34m)\u001b[0m\u001b[0;34m\u001b[0m\u001b[0;34m\u001b[0m\u001b[0m\n\u001b[0m\u001b[1;32m    804\u001b[0m         \u001b[0;32mexcept\u001b[0m \u001b[0mzmq\u001b[0m\u001b[0;34m.\u001b[0m\u001b[0mZMQError\u001b[0m \u001b[0;32mas\u001b[0m \u001b[0me\u001b[0m\u001b[0;34m:\u001b[0m\u001b[0;34m\u001b[0m\u001b[0;34m\u001b[0m\u001b[0m\n",
            "\u001b[0;32m/usr/local/lib/python3.7/dist-packages/zmq/sugar/socket.py\u001b[0m in \u001b[0;36mrecv_multipart\u001b[0;34m(self, flags, copy, track)\u001b[0m\n\u001b[1;32m    582\u001b[0m         \"\"\"\n\u001b[0;32m--> 583\u001b[0;31m         \u001b[0mparts\u001b[0m \u001b[0;34m=\u001b[0m \u001b[0;34m[\u001b[0m\u001b[0mself\u001b[0m\u001b[0;34m.\u001b[0m\u001b[0mrecv\u001b[0m\u001b[0;34m(\u001b[0m\u001b[0mflags\u001b[0m\u001b[0;34m,\u001b[0m \u001b[0mcopy\u001b[0m\u001b[0;34m=\u001b[0m\u001b[0mcopy\u001b[0m\u001b[0;34m,\u001b[0m \u001b[0mtrack\u001b[0m\u001b[0;34m=\u001b[0m\u001b[0mtrack\u001b[0m\u001b[0;34m)\u001b[0m\u001b[0;34m]\u001b[0m\u001b[0;34m\u001b[0m\u001b[0;34m\u001b[0m\u001b[0m\n\u001b[0m\u001b[1;32m    584\u001b[0m         \u001b[0;31m# have first part already, only loop while more to receive\u001b[0m\u001b[0;34m\u001b[0m\u001b[0;34m\u001b[0m\u001b[0;34m\u001b[0m\u001b[0m\n",
            "\u001b[0;32mzmq/backend/cython/socket.pyx\u001b[0m in \u001b[0;36mzmq.backend.cython.socket.Socket.recv\u001b[0;34m()\u001b[0m\n",
            "\u001b[0;32mzmq/backend/cython/socket.pyx\u001b[0m in \u001b[0;36mzmq.backend.cython.socket.Socket.recv\u001b[0;34m()\u001b[0m\n",
            "\u001b[0;32mzmq/backend/cython/socket.pyx\u001b[0m in \u001b[0;36mzmq.backend.cython.socket._recv_copy\u001b[0;34m()\u001b[0m\n",
            "\u001b[0;32m/usr/local/lib/python3.7/dist-packages/zmq/backend/cython/checkrc.pxd\u001b[0m in \u001b[0;36mzmq.backend.cython.checkrc._check_rc\u001b[0;34m()\u001b[0m\n",
            "\u001b[0;31mKeyboardInterrupt\u001b[0m: ",
            "\nDuring handling of the above exception, another exception occurred:\n",
            "\u001b[0;31mKeyboardInterrupt\u001b[0m                         Traceback (most recent call last)",
            "\u001b[0;32m<ipython-input-41-9a9a89271754>\u001b[0m in \u001b[0;36m<module>\u001b[0;34m()\u001b[0m\n\u001b[1;32m      1\u001b[0m \u001b[0;32mfrom\u001b[0m \u001b[0mgoogle\u001b[0m\u001b[0;34m.\u001b[0m\u001b[0mcolab\u001b[0m \u001b[0;32mimport\u001b[0m \u001b[0mdrive\u001b[0m\u001b[0;34m\u001b[0m\u001b[0;34m\u001b[0m\u001b[0m\n\u001b[0;32m----> 2\u001b[0;31m \u001b[0mdrive\u001b[0m\u001b[0;34m.\u001b[0m\u001b[0mmount\u001b[0m\u001b[0;34m(\u001b[0m\u001b[0;34m'/content/gdrive/'\u001b[0m\u001b[0;34m)\u001b[0m\u001b[0;34m\u001b[0m\u001b[0;34m\u001b[0m\u001b[0m\n\u001b[0m",
            "\u001b[0;32m/usr/local/lib/python3.7/dist-packages/google/colab/drive.py\u001b[0m in \u001b[0;36mmount\u001b[0;34m(mountpoint, force_remount, timeout_ms, use_metadata_server)\u001b[0m\n\u001b[1;32m    260\u001b[0m       \u001b[0;32mwith\u001b[0m \u001b[0m_output\u001b[0m\u001b[0;34m.\u001b[0m\u001b[0muse_tags\u001b[0m\u001b[0;34m(\u001b[0m\u001b[0;34m'dfs-auth-dance'\u001b[0m\u001b[0;34m)\u001b[0m\u001b[0;34m:\u001b[0m\u001b[0;34m\u001b[0m\u001b[0;34m\u001b[0m\u001b[0m\n\u001b[1;32m    261\u001b[0m         \u001b[0;32mwith\u001b[0m \u001b[0mopen\u001b[0m\u001b[0;34m(\u001b[0m\u001b[0mfifo\u001b[0m\u001b[0;34m,\u001b[0m \u001b[0;34m'w'\u001b[0m\u001b[0;34m)\u001b[0m \u001b[0;32mas\u001b[0m \u001b[0mfifo_file\u001b[0m\u001b[0;34m:\u001b[0m\u001b[0;34m\u001b[0m\u001b[0;34m\u001b[0m\u001b[0m\n\u001b[0;32m--> 262\u001b[0;31m           \u001b[0mfifo_file\u001b[0m\u001b[0;34m.\u001b[0m\u001b[0mwrite\u001b[0m\u001b[0;34m(\u001b[0m\u001b[0mget_code\u001b[0m\u001b[0;34m(\u001b[0m\u001b[0mauth_prompt\u001b[0m\u001b[0;34m)\u001b[0m \u001b[0;34m+\u001b[0m \u001b[0;34m'\\n'\u001b[0m\u001b[0;34m)\u001b[0m\u001b[0;34m\u001b[0m\u001b[0;34m\u001b[0m\u001b[0m\n\u001b[0m\u001b[1;32m    263\u001b[0m       \u001b[0mwrote_to_fifo\u001b[0m \u001b[0;34m=\u001b[0m \u001b[0;32mTrue\u001b[0m\u001b[0;34m\u001b[0m\u001b[0;34m\u001b[0m\u001b[0m\n\u001b[1;32m    264\u001b[0m     \u001b[0;32melif\u001b[0m \u001b[0mcase\u001b[0m \u001b[0;34m==\u001b[0m \u001b[0;36m5\u001b[0m\u001b[0;34m:\u001b[0m\u001b[0;34m\u001b[0m\u001b[0;34m\u001b[0m\u001b[0m\n",
            "\u001b[0;32m/usr/local/lib/python3.7/dist-packages/ipykernel/kernelbase.py\u001b[0m in \u001b[0;36mraw_input\u001b[0;34m(self, prompt)\u001b[0m\n\u001b[1;32m    702\u001b[0m             \u001b[0mself\u001b[0m\u001b[0;34m.\u001b[0m\u001b[0m_parent_ident\u001b[0m\u001b[0;34m,\u001b[0m\u001b[0;34m\u001b[0m\u001b[0;34m\u001b[0m\u001b[0m\n\u001b[1;32m    703\u001b[0m             \u001b[0mself\u001b[0m\u001b[0;34m.\u001b[0m\u001b[0m_parent_header\u001b[0m\u001b[0;34m,\u001b[0m\u001b[0;34m\u001b[0m\u001b[0;34m\u001b[0m\u001b[0m\n\u001b[0;32m--> 704\u001b[0;31m             \u001b[0mpassword\u001b[0m\u001b[0;34m=\u001b[0m\u001b[0;32mFalse\u001b[0m\u001b[0;34m,\u001b[0m\u001b[0;34m\u001b[0m\u001b[0;34m\u001b[0m\u001b[0m\n\u001b[0m\u001b[1;32m    705\u001b[0m         )\n\u001b[1;32m    706\u001b[0m \u001b[0;34m\u001b[0m\u001b[0m\n",
            "\u001b[0;32m/usr/local/lib/python3.7/dist-packages/ipykernel/kernelbase.py\u001b[0m in \u001b[0;36m_input_request\u001b[0;34m(self, prompt, ident, parent, password)\u001b[0m\n\u001b[1;32m    732\u001b[0m             \u001b[0;32mexcept\u001b[0m \u001b[0mKeyboardInterrupt\u001b[0m\u001b[0;34m:\u001b[0m\u001b[0;34m\u001b[0m\u001b[0;34m\u001b[0m\u001b[0m\n\u001b[1;32m    733\u001b[0m                 \u001b[0;31m# re-raise KeyboardInterrupt, to truncate traceback\u001b[0m\u001b[0;34m\u001b[0m\u001b[0;34m\u001b[0m\u001b[0;34m\u001b[0m\u001b[0m\n\u001b[0;32m--> 734\u001b[0;31m                 \u001b[0;32mraise\u001b[0m \u001b[0mKeyboardInterrupt\u001b[0m\u001b[0;34m\u001b[0m\u001b[0;34m\u001b[0m\u001b[0m\n\u001b[0m\u001b[1;32m    735\u001b[0m             \u001b[0;32melse\u001b[0m\u001b[0;34m:\u001b[0m\u001b[0;34m\u001b[0m\u001b[0;34m\u001b[0m\u001b[0m\n\u001b[1;32m    736\u001b[0m                 \u001b[0;32mbreak\u001b[0m\u001b[0;34m\u001b[0m\u001b[0;34m\u001b[0m\u001b[0m\n",
            "\u001b[0;31mKeyboardInterrupt\u001b[0m: "
          ]
        }
      ]
    },
    {
      "cell_type": "code",
      "metadata": {
        "id": "FUNvg-XT-JKj"
      },
      "source": [
        "!cp \"/content/VOCtrainval_11-May-2012.tar\" \"/content/gdrive/MyDrive\""
      ],
      "execution_count": null,
      "outputs": []
    },
    {
      "cell_type": "code",
      "metadata": {
        "id": "EY9KxE_eCZ5o"
      },
      "source": [
        "!wget https://archive.ics.uci.edu/ml/machine-learning-databases/letter-recognition/letter-recognition.data\n",
        "import pandas as pd\n",
        "data = pd.read_csv(\"/content/letter-recognition.data\",sep=',')"
      ],
      "execution_count": 2,
      "outputs": []
    },
    {
      "cell_type": "code",
      "metadata": {
        "colab": {
          "base_uri": "https://localhost:8080/",
          "height": 424
        },
        "id": "WklYNBiJrqe5",
        "outputId": "c4abdd8b-99c7-425f-a295-0c397e097c60"
      },
      "source": [
        "data"
      ],
      "execution_count": 3,
      "outputs": [
        {
          "output_type": "execute_result",
          "data": {
            "text/html": [
              "<div>\n",
              "<style scoped>\n",
              "    .dataframe tbody tr th:only-of-type {\n",
              "        vertical-align: middle;\n",
              "    }\n",
              "\n",
              "    .dataframe tbody tr th {\n",
              "        vertical-align: top;\n",
              "    }\n",
              "\n",
              "    .dataframe thead th {\n",
              "        text-align: right;\n",
              "    }\n",
              "</style>\n",
              "<table border=\"1\" class=\"dataframe\">\n",
              "  <thead>\n",
              "    <tr style=\"text-align: right;\">\n",
              "      <th></th>\n",
              "      <th>Label</th>\n",
              "      <th>1</th>\n",
              "      <th>2</th>\n",
              "      <th>3</th>\n",
              "      <th>4</th>\n",
              "      <th>5</th>\n",
              "      <th>6</th>\n",
              "      <th>7</th>\n",
              "      <th>8</th>\n",
              "      <th>9</th>\n",
              "      <th>10</th>\n",
              "      <th>11</th>\n",
              "      <th>12</th>\n",
              "      <th>13</th>\n",
              "      <th>14</th>\n",
              "      <th>15</th>\n",
              "      <th>16</th>\n",
              "    </tr>\n",
              "  </thead>\n",
              "  <tbody>\n",
              "    <tr>\n",
              "      <th>0</th>\n",
              "      <td>T</td>\n",
              "      <td>2</td>\n",
              "      <td>8</td>\n",
              "      <td>3</td>\n",
              "      <td>5</td>\n",
              "      <td>1</td>\n",
              "      <td>8</td>\n",
              "      <td>13</td>\n",
              "      <td>0</td>\n",
              "      <td>6</td>\n",
              "      <td>6</td>\n",
              "      <td>10</td>\n",
              "      <td>8</td>\n",
              "      <td>0</td>\n",
              "      <td>8</td>\n",
              "      <td>0</td>\n",
              "      <td>8</td>\n",
              "    </tr>\n",
              "    <tr>\n",
              "      <th>1</th>\n",
              "      <td>I</td>\n",
              "      <td>5</td>\n",
              "      <td>12</td>\n",
              "      <td>3</td>\n",
              "      <td>7</td>\n",
              "      <td>2</td>\n",
              "      <td>10</td>\n",
              "      <td>5</td>\n",
              "      <td>5</td>\n",
              "      <td>4</td>\n",
              "      <td>13</td>\n",
              "      <td>3</td>\n",
              "      <td>9</td>\n",
              "      <td>2</td>\n",
              "      <td>8</td>\n",
              "      <td>4</td>\n",
              "      <td>10</td>\n",
              "    </tr>\n",
              "    <tr>\n",
              "      <th>2</th>\n",
              "      <td>D</td>\n",
              "      <td>4</td>\n",
              "      <td>11</td>\n",
              "      <td>6</td>\n",
              "      <td>8</td>\n",
              "      <td>6</td>\n",
              "      <td>10</td>\n",
              "      <td>6</td>\n",
              "      <td>2</td>\n",
              "      <td>6</td>\n",
              "      <td>10</td>\n",
              "      <td>3</td>\n",
              "      <td>7</td>\n",
              "      <td>3</td>\n",
              "      <td>7</td>\n",
              "      <td>3</td>\n",
              "      <td>9</td>\n",
              "    </tr>\n",
              "    <tr>\n",
              "      <th>3</th>\n",
              "      <td>N</td>\n",
              "      <td>7</td>\n",
              "      <td>11</td>\n",
              "      <td>6</td>\n",
              "      <td>6</td>\n",
              "      <td>3</td>\n",
              "      <td>5</td>\n",
              "      <td>9</td>\n",
              "      <td>4</td>\n",
              "      <td>6</td>\n",
              "      <td>4</td>\n",
              "      <td>4</td>\n",
              "      <td>10</td>\n",
              "      <td>6</td>\n",
              "      <td>10</td>\n",
              "      <td>2</td>\n",
              "      <td>8</td>\n",
              "    </tr>\n",
              "    <tr>\n",
              "      <th>4</th>\n",
              "      <td>G</td>\n",
              "      <td>2</td>\n",
              "      <td>1</td>\n",
              "      <td>3</td>\n",
              "      <td>1</td>\n",
              "      <td>1</td>\n",
              "      <td>8</td>\n",
              "      <td>6</td>\n",
              "      <td>6</td>\n",
              "      <td>6</td>\n",
              "      <td>6</td>\n",
              "      <td>5</td>\n",
              "      <td>9</td>\n",
              "      <td>1</td>\n",
              "      <td>7</td>\n",
              "      <td>5</td>\n",
              "      <td>10</td>\n",
              "    </tr>\n",
              "    <tr>\n",
              "      <th>...</th>\n",
              "      <td>...</td>\n",
              "      <td>...</td>\n",
              "      <td>...</td>\n",
              "      <td>...</td>\n",
              "      <td>...</td>\n",
              "      <td>...</td>\n",
              "      <td>...</td>\n",
              "      <td>...</td>\n",
              "      <td>...</td>\n",
              "      <td>...</td>\n",
              "      <td>...</td>\n",
              "      <td>...</td>\n",
              "      <td>...</td>\n",
              "      <td>...</td>\n",
              "      <td>...</td>\n",
              "      <td>...</td>\n",
              "      <td>...</td>\n",
              "    </tr>\n",
              "    <tr>\n",
              "      <th>19995</th>\n",
              "      <td>D</td>\n",
              "      <td>2</td>\n",
              "      <td>2</td>\n",
              "      <td>3</td>\n",
              "      <td>3</td>\n",
              "      <td>2</td>\n",
              "      <td>7</td>\n",
              "      <td>7</td>\n",
              "      <td>7</td>\n",
              "      <td>6</td>\n",
              "      <td>6</td>\n",
              "      <td>6</td>\n",
              "      <td>4</td>\n",
              "      <td>2</td>\n",
              "      <td>8</td>\n",
              "      <td>3</td>\n",
              "      <td>7</td>\n",
              "    </tr>\n",
              "    <tr>\n",
              "      <th>19996</th>\n",
              "      <td>C</td>\n",
              "      <td>7</td>\n",
              "      <td>10</td>\n",
              "      <td>8</td>\n",
              "      <td>8</td>\n",
              "      <td>4</td>\n",
              "      <td>4</td>\n",
              "      <td>8</td>\n",
              "      <td>6</td>\n",
              "      <td>9</td>\n",
              "      <td>12</td>\n",
              "      <td>9</td>\n",
              "      <td>13</td>\n",
              "      <td>2</td>\n",
              "      <td>9</td>\n",
              "      <td>3</td>\n",
              "      <td>7</td>\n",
              "    </tr>\n",
              "    <tr>\n",
              "      <th>19997</th>\n",
              "      <td>T</td>\n",
              "      <td>6</td>\n",
              "      <td>9</td>\n",
              "      <td>6</td>\n",
              "      <td>7</td>\n",
              "      <td>5</td>\n",
              "      <td>6</td>\n",
              "      <td>11</td>\n",
              "      <td>3</td>\n",
              "      <td>7</td>\n",
              "      <td>11</td>\n",
              "      <td>9</td>\n",
              "      <td>5</td>\n",
              "      <td>2</td>\n",
              "      <td>12</td>\n",
              "      <td>2</td>\n",
              "      <td>4</td>\n",
              "    </tr>\n",
              "    <tr>\n",
              "      <th>19998</th>\n",
              "      <td>S</td>\n",
              "      <td>2</td>\n",
              "      <td>3</td>\n",
              "      <td>4</td>\n",
              "      <td>2</td>\n",
              "      <td>1</td>\n",
              "      <td>8</td>\n",
              "      <td>7</td>\n",
              "      <td>2</td>\n",
              "      <td>6</td>\n",
              "      <td>10</td>\n",
              "      <td>6</td>\n",
              "      <td>8</td>\n",
              "      <td>1</td>\n",
              "      <td>9</td>\n",
              "      <td>5</td>\n",
              "      <td>8</td>\n",
              "    </tr>\n",
              "    <tr>\n",
              "      <th>19999</th>\n",
              "      <td>A</td>\n",
              "      <td>4</td>\n",
              "      <td>9</td>\n",
              "      <td>6</td>\n",
              "      <td>6</td>\n",
              "      <td>2</td>\n",
              "      <td>9</td>\n",
              "      <td>5</td>\n",
              "      <td>3</td>\n",
              "      <td>1</td>\n",
              "      <td>8</td>\n",
              "      <td>1</td>\n",
              "      <td>8</td>\n",
              "      <td>2</td>\n",
              "      <td>7</td>\n",
              "      <td>2</td>\n",
              "      <td>8</td>\n",
              "    </tr>\n",
              "  </tbody>\n",
              "</table>\n",
              "<p>20000 rows × 17 columns</p>\n",
              "</div>"
            ],
            "text/plain": [
              "      Label  1   2  3  4  5   6   7  8  9  10  11  12  13  14  15  16\n",
              "0         T  2   8  3  5  1   8  13  0  6   6  10   8   0   8   0   8\n",
              "1         I  5  12  3  7  2  10   5  5  4  13   3   9   2   8   4  10\n",
              "2         D  4  11  6  8  6  10   6  2  6  10   3   7   3   7   3   9\n",
              "3         N  7  11  6  6  3   5   9  4  6   4   4  10   6  10   2   8\n",
              "4         G  2   1  3  1  1   8   6  6  6   6   5   9   1   7   5  10\n",
              "...     ... ..  .. .. .. ..  ..  .. .. ..  ..  ..  ..  ..  ..  ..  ..\n",
              "19995     D  2   2  3  3  2   7   7  7  6   6   6   4   2   8   3   7\n",
              "19996     C  7  10  8  8  4   4   8  6  9  12   9  13   2   9   3   7\n",
              "19997     T  6   9  6  7  5   6  11  3  7  11   9   5   2  12   2   4\n",
              "19998     S  2   3  4  2  1   8   7  2  6  10   6   8   1   9   5   8\n",
              "19999     A  4   9  6  6  2   9   5  3  1   8   1   8   2   7   2   8\n",
              "\n",
              "[20000 rows x 17 columns]"
            ]
          },
          "metadata": {
            "tags": []
          },
          "execution_count": 3
        }
      ]
    },
    {
      "cell_type": "code",
      "metadata": {
        "colab": {
          "base_uri": "https://localhost:8080/",
          "height": 282
        },
        "id": "x3Tlp7tBwhQa",
        "outputId": "4a34351f-5e9d-4e20-a6b0-d8a4748fbbd0"
      },
      "source": [
        "data['Label'].hist(bins=150)"
      ],
      "execution_count": 40,
      "outputs": [
        {
          "output_type": "execute_result",
          "data": {
            "text/plain": [
              "<matplotlib.axes._subplots.AxesSubplot at 0x7f6c7ffd38d0>"
            ]
          },
          "metadata": {
            "tags": []
          },
          "execution_count": 40
        },
        {
          "output_type": "display_data",
          "data": {
            "image/png": "[encoded data removed]",
            "text/plain": [
              "<Figure size 432x288 with 1 Axes>"
            ]
          },
          "metadata": {
            "tags": [],
            "needs_background": "light"
          }
        }
      ]
    },
    {
      "cell_type": "code",
      "metadata": {
        "id": "_zFn-JL2-g7e"
      },
      "source": [
        "import pandas as pd\n",
        "import matplotlib.pyplot as plt\n",
        "from sklearn.utils import shuffle\n",
        "from sklearn.model_selection import train_test_split\n",
        "import numpy as np\n",
        "from sklearn.metrics import accuracy_score, hinge_loss\n",
        "from sklearn.svm import SVC\n",
        "from sklearn.metrics import classification_report, confusion_matrix\n",
        "\n",
        "alph = {'A':0, 'B':1, 'C':2, 'D':3, 'E':4, 'F':5, 'G':6, 'H':7, 'I':8, 'J':9, 'K':10, 'L':11, 'M':12, 'N':13, 'O':14, 'P':15, 'Q':16, 'R':17, 'S':18, 'T':19, 'U':20, 'V':21, 'W':22, 'X':23, 'Y':24, 'Z':25}"
      ],
      "execution_count": 8,
      "outputs": []
    },
    {
      "cell_type": "code",
      "metadata": {
        "id": "girBwKd7tPuD"
      },
      "source": [
        "def kt_svm(train, n, k, q, n2, ker, deg=2):\n",
        "  ## taking N random samples from train\n",
        "  random_n = train.sample(n)\n",
        "  ## training with SVMC\n",
        "  temp_x = random_n.drop('Label', axis=1)\n",
        "  temp_y = random_n['Label']\n",
        "  \n",
        "  if ker == \"linear\":\n",
        "    temp_clf = SVC(kernel = ker)\n",
        "  elif ker == \"rbf\":\n",
        "    temp_clf = SVC(kernel = ker, random_state = 0)\n",
        "  elif ker == \"sigmoid\":\n",
        "    temp_clf = SVC(kernel = ker)\n",
        "  elif ker == \"poly\":\n",
        "    temp_clf = SVC(kernel = ker, degree = deg)\n",
        "\n",
        "  temp_clf.fit(temp_x, temp_y)\n",
        "  ## let i = 0\n",
        "  i = 0\n",
        "  N = []\n",
        "  # while True:\n",
        "    ## set N_i and t\n",
        "  N.append(0)\n",
        "  t = 1\n",
        "  ## take one random sample from train\n",
        "  one = train.sample()\n",
        "  if(N[i]%2==0):\n",
        "    N[i] = N[i] + 1\n",
        "\n",
        "  df_store = []\n",
        "  while True:\n",
        "    ## take another sample\n",
        "    ano = train.sample()\n",
        "    ncpt = 0\n",
        "    ## calculate ratio\n",
        "    one_x = one.drop('Label', axis=1)\n",
        "    one_y = one['Label']\n",
        "    one_i = alph[one_y.values[0]]\n",
        "    one_dec = temp_clf.decision_function(one_x)\n",
        "    # one_pred = one_dec[0, one_i]\n",
        "    one_pred = max(one_dec[0])\n",
        "\n",
        "    ano_x = ano.drop('Label', axis=1)\n",
        "    ano_y = ano['Label']\n",
        "    # print(ano_y.values[0])\n",
        "    ano_i = alph[ano_y.values[0]]\n",
        "    ano_dec = temp_clf.decision_function(ano_x)\n",
        "    # ano_pred = ano_dec[0, ano_i]\n",
        "    ano_pred = max(ano_dec[0])\n",
        "\n",
        "    alfa = np.exp(np.log2(abs(ano_pred/one_pred)))\n",
        "    ## conditions\n",
        "    if round(alfa, 2) == 1 or alfa > 1 or ncpt == n2:\n",
        "      ## accept second sample\n",
        "      df_store.append(ano)\n",
        "      ncpt = 0\n",
        "    else:\n",
        "      ncpt += 1\n",
        "      continue\n",
        "    \n",
        "    N[i] = N[i] + 1\n",
        "    one = ano\n",
        "    # print(N_i)\n",
        "    \n",
        "    if N[i] < n/2:\n",
        "      continue\n",
        "    else:\n",
        "      break\n",
        "  ## train N markov samples\n",
        "  df_mar = pd.concat(df_store)\n",
        "  temp_x = df_mar.drop('Label', axis=1)\n",
        "  temp_y = df_mar['Label']\n",
        "\n",
        "  if ker == \"linear\":\n",
        "    temp_clf = SVC(kernel = ker)\n",
        "  elif ker == \"rbf\":\n",
        "    temp_clf = SVC(kernel = ker, random_state = 0)\n",
        "  elif ker == \"sigmoid\":\n",
        "    temp_clf = SVC(kernel = ker)\n",
        "  elif ker == \"poly\":\n",
        "    temp_clf = SVC(kernel = ker, degree = deg)\n",
        "\n",
        "  temp_clf.fit(temp_x, temp_y)\n",
        "\n",
        "    # if i < k:\n",
        "      # continue\n",
        "    # else:\n",
        "      # break\n",
        "  return temp_clf"
      ],
      "execution_count": 36,
      "outputs": []
    },
    {
      "cell_type": "code",
      "metadata": {
        "id": "t9seXsMx-bn_"
      },
      "source": [
        "num = round(len(data)*0.8)\n",
        "train, test = data[:num], data[num:]"
      ],
      "execution_count": 37,
      "outputs": []
    },
    {
      "cell_type": "code",
      "metadata": {
        "id": "uClpRsLz--d6"
      },
      "source": [
        "test_x = test.drop('Label', axis=1)\n",
        "test_y = test['Label']"
      ],
      "execution_count": 38,
      "outputs": []
    },
    {
      "cell_type": "code",
      "metadata": {
        "colab": {
          "base_uri": "https://localhost:8080/"
        },
        "id": "0UJLCKO9_nFG",
        "outputId": "7ce31843-f0ef-452d-ce0f-b977b1c4e670"
      },
      "source": [
        "kt_clf = kt_svm(train, 100, 1, 1.2, 10, \"linear\")\n",
        "kt_pred = kt_clf.predict(test_x)\n",
        "print(classification_report(test_y, kt_pred))"
      ],
      "execution_count": 39,
      "outputs": [
        {
          "output_type": "stream",
          "text": [
            "              precision    recall  f1-score   support\n",
            "\n",
            "           A       0.81      0.84      0.83       156\n",
            "           B       0.24      0.31      0.27       136\n",
            "           C       0.46      0.72      0.56       142\n",
            "           D       0.46      0.32      0.38       167\n",
            "           E       0.42      0.13      0.20       152\n",
            "           F       0.19      0.41      0.26       153\n",
            "           G       0.00      0.00      0.00       164\n",
            "           H       0.07      0.12      0.09       151\n",
            "           I       0.38      0.57      0.45       165\n",
            "           J       0.70      0.45      0.55       148\n",
            "           K       0.28      0.69      0.40       146\n",
            "           L       0.12      0.06      0.08       157\n",
            "           M       0.74      0.77      0.76       144\n",
            "           N       0.26      0.38      0.31       166\n",
            "           O       0.18      0.76      0.29       139\n",
            "           P       0.77      0.30      0.43       168\n",
            "           Q       0.00      0.00      0.00       168\n",
            "           R       0.47      0.52      0.49       161\n",
            "           S       0.19      0.42      0.26       161\n",
            "           T       0.35      0.32      0.33       151\n",
            "           U       0.00      0.00      0.00       168\n",
            "           V       0.60      0.24      0.34       136\n",
            "           W       0.91      0.38      0.54       139\n",
            "           X       0.00      0.00      0.00       159\n",
            "           Y       0.46      0.28      0.34       145\n",
            "           Z       0.00      0.00      0.00       158\n",
            "\n",
            "    accuracy                           0.34      4000\n",
            "   macro avg       0.35      0.34      0.31      4000\n",
            "weighted avg       0.34      0.34      0.31      4000\n",
            "\n"
          ],
          "name": "stdout"
        },
        {
          "output_type": "stream",
          "text": [
            "/usr/local/lib/python3.7/dist-packages/sklearn/metrics/_classification.py:1272: UndefinedMetricWarning: Precision and F-score are ill-defined and being set to 0.0 in labels with no predicted samples. Use `zero_division` parameter to control this behavior.\n",
            "  _warn_prf(average, modifier, msg_start, len(result))\n"
          ],
          "name": "stderr"
        }
      ]
    },
    {
      "cell_type": "code",
      "metadata": {
        "colab": {
          "base_uri": "https://localhost:8080/"
        },
        "id": "riFu9BOQ_pSy",
        "outputId": "5f12665e-6457-4f7f-9558-abfdcd6fe069"
      },
      "source": [
        "kt_clf = kt_svm(train, 100, 1, 1.2, 10, \"rbf\")\n",
        "kt_pred = kt_clf.predict(test_x)\n",
        "print(classification_report(test_y, kt_pred))"
      ],
      "execution_count": 42,
      "outputs": [
        {
          "output_type": "stream",
          "text": [
            "              precision    recall  f1-score   support\n",
            "\n",
            "           A       0.82      0.72      0.76       156\n",
            "           B       0.07      0.40      0.11       136\n",
            "           C       0.00      0.00      0.00       142\n",
            "           D       0.10      0.53      0.16       167\n",
            "           E       0.34      0.32      0.33       152\n",
            "           F       0.00      0.00      0.00       153\n",
            "           G       0.27      0.16      0.20       164\n",
            "           H       0.00      0.00      0.00       151\n",
            "           I       0.00      0.00      0.00       165\n",
            "           J       1.00      0.03      0.07       148\n",
            "           K       0.00      0.00      0.00       146\n",
            "           L       0.45      0.63      0.52       157\n",
            "           M       0.23      0.94      0.37       144\n",
            "           N       0.66      0.19      0.29       166\n",
            "           O       0.00      0.00      0.00       139\n",
            "           P       0.13      0.80      0.23       168\n",
            "           Q       0.00      0.00      0.00       168\n",
            "           R       0.77      0.06      0.11       161\n",
            "           S       0.00      0.00      0.00       161\n",
            "           T       0.00      0.00      0.00       151\n",
            "           U       0.00      0.00      0.00       168\n",
            "           V       0.00      0.00      0.00       136\n",
            "           W       0.00      0.00      0.00       139\n",
            "           X       0.00      0.00      0.00       159\n",
            "           Y       0.00      0.00      0.00       145\n",
            "           Z       0.00      0.00      0.00       158\n",
            "\n",
            "    accuracy                           0.19      4000\n",
            "   macro avg       0.19      0.18      0.12      4000\n",
            "weighted avg       0.19      0.19      0.12      4000\n",
            "\n"
          ],
          "name": "stdout"
        },
        {
          "output_type": "stream",
          "text": [
            "/usr/local/lib/python3.7/dist-packages/sklearn/metrics/_classification.py:1272: UndefinedMetricWarning: Precision and F-score are ill-defined and being set to 0.0 in labels with no predicted samples. Use `zero_division` parameter to control this behavior.\n",
            "  _warn_prf(average, modifier, msg_start, len(result))\n"
          ],
          "name": "stderr"
        }
      ]
    },
    {
      "cell_type": "code",
      "metadata": {
        "colab": {
          "base_uri": "https://localhost:8080/"
        },
        "id": "dtAVKjY7ETZY",
        "outputId": "3ff210a3-161d-42dd-8b02-04f166f7ad6b"
      },
      "source": [
        "kt_clf = kt_svm(train, 100, 1, 1.2, 10, \"poly\")\n",
        "kt_pred = kt_clf.predict(test_x)\n",
        "print(classification_report(test_y, kt_pred))"
      ],
      "execution_count": 43,
      "outputs": [
        {
          "output_type": "stream",
          "text": [
            "              precision    recall  f1-score   support\n",
            "\n",
            "           A       0.82      0.47      0.60       156\n",
            "           B       0.14      0.48      0.22       136\n",
            "           C       0.05      0.09      0.06       142\n",
            "           D       0.00      0.00      0.00       167\n",
            "           E       0.21      0.47      0.29       152\n",
            "           F       0.31      0.29      0.30       153\n",
            "           G       0.34      0.27      0.30       164\n",
            "           H       0.00      0.00      0.00       151\n",
            "           I       0.00      0.00      0.00       165\n",
            "           J       0.64      0.48      0.55       148\n",
            "           K       0.41      0.24      0.30       146\n",
            "           L       0.75      0.73      0.74       157\n",
            "           M       0.00      0.00      0.00       144\n",
            "           N       0.33      0.05      0.09       166\n",
            "           O       0.00      0.00      0.00       139\n",
            "           P       0.67      0.61      0.64       168\n",
            "           Q       0.35      0.13      0.19       168\n",
            "           R       0.25      0.65      0.36       161\n",
            "           S       0.08      0.04      0.05       161\n",
            "           T       0.43      0.42      0.43       151\n",
            "           U       0.19      0.46      0.27       168\n",
            "           V       0.13      0.21      0.16       136\n",
            "           W       0.38      0.53      0.44       139\n",
            "           X       0.19      0.24      0.21       159\n",
            "           Y       0.38      0.37      0.38       145\n",
            "           Z       0.54      0.65      0.59       158\n",
            "\n",
            "    accuracy                           0.30      4000\n",
            "   macro avg       0.29      0.30      0.28      4000\n",
            "weighted avg       0.29      0.30      0.28      4000\n",
            "\n"
          ],
          "name": "stdout"
        },
        {
          "output_type": "stream",
          "text": [
            "/usr/local/lib/python3.7/dist-packages/sklearn/metrics/_classification.py:1272: UndefinedMetricWarning: Precision and F-score are ill-defined and being set to 0.0 in labels with no predicted samples. Use `zero_division` parameter to control this behavior.\n",
            "  _warn_prf(average, modifier, msg_start, len(result))\n"
          ],
          "name": "stderr"
        }
      ]
    },
    {
      "cell_type": "code",
      "metadata": {
        "colab": {
          "base_uri": "https://localhost:8080/"
        },
        "id": "LwEkrqiAEVoP",
        "outputId": "a1cd7b13-a8ef-4ffc-c8ab-afae6ba2e329"
      },
      "source": [
        "kt_clf = kt_svm(train, 100, 1, 1.2, 20, \"sigmoid\")\n",
        "kt_pred = kt_clf.predict(test_x)\n",
        "print(classification_report(test_y, kt_pred))"
      ],
      "execution_count": 53,
      "outputs": [
        {
          "output_type": "stream",
          "text": [
            "              precision    recall  f1-score   support\n",
            "\n",
            "           A       0.00      0.00      0.00       156\n",
            "           B       0.00      0.00      0.00       136\n",
            "           C       0.00      0.00      0.00       142\n",
            "           D       0.00      0.00      0.00       167\n",
            "           E       0.00      0.00      0.00       152\n",
            "           F       0.00      0.00      0.00       153\n",
            "           G       0.00      0.00      0.00       164\n",
            "           H       0.00      0.00      0.00       151\n",
            "           I       0.00      0.00      0.00       165\n",
            "           J       0.00      0.00      0.00       148\n",
            "           K       0.04      1.00      0.07       146\n",
            "           L       0.00      0.00      0.00       157\n",
            "           M       0.00      0.00      0.00       144\n",
            "           N       0.00      0.00      0.00       166\n",
            "           O       0.00      0.00      0.00       139\n",
            "           P       0.00      0.00      0.00       168\n",
            "           Q       0.00      0.00      0.00       168\n",
            "           R       0.00      0.00      0.00       161\n",
            "           S       0.00      0.00      0.00       161\n",
            "           T       0.00      0.00      0.00       151\n",
            "           U       0.00      0.00      0.00       168\n",
            "           V       0.00      0.00      0.00       136\n",
            "           W       0.00      0.00      0.00       139\n",
            "           X       0.00      0.00      0.00       159\n",
            "           Y       0.00      0.00      0.00       145\n",
            "           Z       0.00      0.00      0.00       158\n",
            "\n",
            "    accuracy                           0.04      4000\n",
            "   macro avg       0.00      0.04      0.00      4000\n",
            "weighted avg       0.00      0.04      0.00      4000\n",
            "\n"
          ],
          "name": "stdout"
        },
        {
          "output_type": "stream",
          "text": [
            "/usr/local/lib/python3.7/dist-packages/sklearn/metrics/_classification.py:1272: UndefinedMetricWarning: Precision and F-score are ill-defined and being set to 0.0 in labels with no predicted samples. Use `zero_division` parameter to control this behavior.\n",
            "  _warn_prf(average, modifier, msg_start, len(result))\n"
          ],
          "name": "stderr"
        }
      ]
    }
  ]
}