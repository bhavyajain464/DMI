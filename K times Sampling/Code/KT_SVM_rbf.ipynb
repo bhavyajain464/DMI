{
  "nbformat": 4,
  "nbformat_minor": 0,
  "metadata": {
    "colab": {
      "name": "KT_SVM_rbf.ipynb",
      "provenance": [],
      "collapsed_sections": []
    },
    "kernelspec": {
      "name": "python3",
      "display_name": "Python 3"
    }
  },
  "cells": [
    {
      "cell_type": "code",
      "metadata": {
        "colab": {
          "base_uri": "https://localhost:8080/"
        },
        "id": "xHTZ1IeLDeHa",
        "outputId": "72f5b9ba-ef0b-46aa-a747-514eabee3746"
      },
      "source": [
        "from google.colab import drive\n",
        "drive.mount('/content/drive')"
      ],
      "execution_count": null,
      "outputs": [
        {
          "output_type": "stream",
          "text": [
            "Mounted at /content/drive\n"
          ],
          "name": "stdout"
        }
      ]
    },
    {
      "cell_type": "code",
      "metadata": {
        "id": "qITn5p90HPQY"
      },
      "source": [
        "import pandas as pd\n",
        "import matplotlib.pyplot as plt\n",
        "from sklearn.utils import shuffle\n",
        "from sklearn.model_selection import train_test_split\n",
        "import numpy as np\n",
        "from sklearn.metrics import accuracy_score, hinge_loss\n",
        "from sklearn.svm import SVC"
      ],
      "execution_count": null,
      "outputs": []
    },
    {
      "cell_type": "code",
      "metadata": {
        "id": "VbqSGwtVAT9O"
      },
      "source": [
        "url = \"/content/drive/MyDrive/SEM6/DMW/Prac/C2/Group_A1/letter-recognition.data\"\n",
        "\n",
        "col = ['lettr', 'x-box', 'y-box', 'width', 'high', 'onpix', 'x-bar', 'y-bar', 'x2bar', 'y2bar', 'xybar', 'x2ybr', 'xy2br', 'x-ege', 'xegvy', 'y-ege', 'yegvx']\n",
        "\n",
        "irisdata = pd.read_csv(url, names=col)\n",
        "\n",
        "x = irisdata.drop('lettr', axis=1)\n",
        "y = irisdata['lettr']"
      ],
      "execution_count": null,
      "outputs": []
    },
    {
      "cell_type": "code",
      "metadata": {
        "id": "XrJZSuFyZjmp"
      },
      "source": [
        "from sklearn.metrics import classification_report, confusion_matrix"
      ],
      "execution_count": null,
      "outputs": []
    },
    {
      "cell_type": "code",
      "metadata": {
        "colab": {
          "base_uri": "https://localhost:8080/",
          "height": 198
        },
        "id": "zowxqJh0GiZL",
        "outputId": "efd01f27-61b2-4100-f306-ed5912eb542f"
      },
      "source": [
        "irisdata.head()"
      ],
      "execution_count": null,
      "outputs": [
        {
          "output_type": "execute_result",
          "data": {
            "text/html": [
              "<div>\n",
              "<style scoped>\n",
              "    .dataframe tbody tr th:only-of-type {\n",
              "        vertical-align: middle;\n",
              "    }\n",
              "\n",
              "    .dataframe tbody tr th {\n",
              "        vertical-align: top;\n",
              "    }\n",
              "\n",
              "    .dataframe thead th {\n",
              "        text-align: right;\n",
              "    }\n",
              "</style>\n",
              "<table border=\"1\" class=\"dataframe\">\n",
              "  <thead>\n",
              "    <tr style=\"text-align: right;\">\n",
              "      <th></th>\n",
              "      <th>lettr</th>\n",
              "      <th>x-box</th>\n",
              "      <th>y-box</th>\n",
              "      <th>width</th>\n",
              "      <th>high</th>\n",
              "      <th>onpix</th>\n",
              "      <th>x-bar</th>\n",
              "      <th>y-bar</th>\n",
              "      <th>x2bar</th>\n",
              "      <th>y2bar</th>\n",
              "      <th>xybar</th>\n",
              "      <th>x2ybr</th>\n",
              "      <th>xy2br</th>\n",
              "      <th>x-ege</th>\n",
              "      <th>xegvy</th>\n",
              "      <th>y-ege</th>\n",
              "      <th>yegvx</th>\n",
              "    </tr>\n",
              "  </thead>\n",
              "  <tbody>\n",
              "    <tr>\n",
              "      <th>0</th>\n",
              "      <td>T</td>\n",
              "      <td>2</td>\n",
              "      <td>8</td>\n",
              "      <td>3</td>\n",
              "      <td>5</td>\n",
              "      <td>1</td>\n",
              "      <td>8</td>\n",
              "      <td>13</td>\n",
              "      <td>0</td>\n",
              "      <td>6</td>\n",
              "      <td>6</td>\n",
              "      <td>10</td>\n",
              "      <td>8</td>\n",
              "      <td>0</td>\n",
              "      <td>8</td>\n",
              "      <td>0</td>\n",
              "      <td>8</td>\n",
              "    </tr>\n",
              "    <tr>\n",
              "      <th>1</th>\n",
              "      <td>I</td>\n",
              "      <td>5</td>\n",
              "      <td>12</td>\n",
              "      <td>3</td>\n",
              "      <td>7</td>\n",
              "      <td>2</td>\n",
              "      <td>10</td>\n",
              "      <td>5</td>\n",
              "      <td>5</td>\n",
              "      <td>4</td>\n",
              "      <td>13</td>\n",
              "      <td>3</td>\n",
              "      <td>9</td>\n",
              "      <td>2</td>\n",
              "      <td>8</td>\n",
              "      <td>4</td>\n",
              "      <td>10</td>\n",
              "    </tr>\n",
              "    <tr>\n",
              "      <th>2</th>\n",
              "      <td>D</td>\n",
              "      <td>4</td>\n",
              "      <td>11</td>\n",
              "      <td>6</td>\n",
              "      <td>8</td>\n",
              "      <td>6</td>\n",
              "      <td>10</td>\n",
              "      <td>6</td>\n",
              "      <td>2</td>\n",
              "      <td>6</td>\n",
              "      <td>10</td>\n",
              "      <td>3</td>\n",
              "      <td>7</td>\n",
              "      <td>3</td>\n",
              "      <td>7</td>\n",
              "      <td>3</td>\n",
              "      <td>9</td>\n",
              "    </tr>\n",
              "    <tr>\n",
              "      <th>3</th>\n",
              "      <td>N</td>\n",
              "      <td>7</td>\n",
              "      <td>11</td>\n",
              "      <td>6</td>\n",
              "      <td>6</td>\n",
              "      <td>3</td>\n",
              "      <td>5</td>\n",
              "      <td>9</td>\n",
              "      <td>4</td>\n",
              "      <td>6</td>\n",
              "      <td>4</td>\n",
              "      <td>4</td>\n",
              "      <td>10</td>\n",
              "      <td>6</td>\n",
              "      <td>10</td>\n",
              "      <td>2</td>\n",
              "      <td>8</td>\n",
              "    </tr>\n",
              "    <tr>\n",
              "      <th>4</th>\n",
              "      <td>G</td>\n",
              "      <td>2</td>\n",
              "      <td>1</td>\n",
              "      <td>3</td>\n",
              "      <td>1</td>\n",
              "      <td>1</td>\n",
              "      <td>8</td>\n",
              "      <td>6</td>\n",
              "      <td>6</td>\n",
              "      <td>6</td>\n",
              "      <td>6</td>\n",
              "      <td>5</td>\n",
              "      <td>9</td>\n",
              "      <td>1</td>\n",
              "      <td>7</td>\n",
              "      <td>5</td>\n",
              "      <td>10</td>\n",
              "    </tr>\n",
              "  </tbody>\n",
              "</table>\n",
              "</div>"
            ],
            "text/plain": [
              "  lettr  x-box  y-box  width  high  ...  xy2br  x-ege  xegvy  y-ege  yegvx\n",
              "0     T      2      8      3     5  ...      8      0      8      0      8\n",
              "1     I      5     12      3     7  ...      9      2      8      4     10\n",
              "2     D      4     11      6     8  ...      7      3      7      3      9\n",
              "3     N      7     11      6     6  ...     10      6     10      2      8\n",
              "4     G      2      1      3     1  ...      9      1      7      5     10\n",
              "\n",
              "[5 rows x 17 columns]"
            ]
          },
          "metadata": {
            "tags": []
          },
          "execution_count": 8
        }
      ]
    },
    {
      "cell_type": "code",
      "metadata": {
        "id": "AwXQstciUbgX"
      },
      "source": [
        "alph = {'A':0, 'B':1, 'C':2, 'D':3, 'E':4, 'F':5, 'G':6, 'H':7, 'I':8, 'J':9, 'K':10, 'L':11, 'M':12, 'N':13, 'O':14, 'P':15, 'Q':16, 'R':17, 'S':18, 'T':19, 'U':20, 'V':21, 'W':22, 'X':23, 'Y':24, 'Z':25}"
      ],
      "execution_count": null,
      "outputs": []
    },
    {
      "cell_type": "code",
      "metadata": {
        "id": "GToCShuyGrq2"
      },
      "source": [
        "num = round(len(irisdata)*0.8)\n",
        "train, test = irisdata[:num], irisdata[num:]"
      ],
      "execution_count": null,
      "outputs": []
    },
    {
      "cell_type": "code",
      "metadata": {
        "id": "VbKKou4DvMZm"
      },
      "source": [
        "## train should be a dataframe\n",
        "def kt_svm(train, N, k, q, n2, ker, deg=2):\n",
        "  ## taking N random samples from train\n",
        "  random_n = train.sample(N)\n",
        "  ## training with SVMC\n",
        "  temp_x = random_n.drop('lettr', axis=1)\n",
        "  temp_y = random_n['lettr']\n",
        "  \n",
        "  if ker == \"linear\":\n",
        "    temp_clf = SVC(kernel = ker)\n",
        "  elif ker == \"rbf\":\n",
        "    temp_clf = SVC(kernel = ker, random_state = 0)\n",
        "  elif ker == \"sigmoid\":\n",
        "    temp_clf = SVC(kernel = ker)\n",
        "  elif ker == \"poly\":\n",
        "    temp_clf = SVC(kernel = ker, degree = deg)\n",
        "\n",
        "  temp_clf.fit(temp_x, temp_y)\n",
        "  ## let i = 0\n",
        "  i = 0\n",
        "  while True:\n",
        "    ## set N_i and t\n",
        "    N_i, t = 0, 1\n",
        "    ## take one random sample from train\n",
        "    one = train.sample()\n",
        "    N_i = N_i + 1\n",
        "\n",
        "    df_store = []\n",
        "    while True:\n",
        "      ## take another sample\n",
        "      ano = train.sample()\n",
        "      ncpt = 0\n",
        "      ## calculate ratio\n",
        "      one_x = one.drop('lettr', axis=1)\n",
        "      one_y = one['lettr']\n",
        "      one_i = alph[one_y.values[0]]\n",
        "      one_dec = temp_clf.decision_function(one_x)\n",
        "      # one_pred = one_dec[0, one_i]\n",
        "      one_pred = max(one_dec[0])\n",
        "\n",
        "      ano_x = ano.drop('lettr', axis=1)\n",
        "      ano_y = ano['lettr']\n",
        "      ano_i = alph[ano_y.values[0]]\n",
        "      ano_dec = temp_clf.decision_function(ano_x)\n",
        "      # ano_pred = ano_dec[0, ano_i]\n",
        "      ano_pred = max(ano_dec[0])\n",
        "\n",
        "      alfa = np.exp(np.log2(abs(ano_pred/one_pred)))\n",
        "      ## conditions\n",
        "      if round(alfa, 2) == 1 or alfa < 1 or ncpt == n2:\n",
        "        ## accept second sample\n",
        "        df_store.append(ano)\n",
        "        ncpt = 0\n",
        "      else:\n",
        "        ncpt += 1\n",
        "        continue\n",
        "      \n",
        "      N_i = N_i + 1\n",
        "      one = ano\n",
        "      # print(N_i)\n",
        "      if(N_i % 20 == 0):\n",
        "        print(\"samples :\", N_i)\n",
        "      \n",
        "      if N_i < N:\n",
        "        continue\n",
        "      else:\n",
        "        break\n",
        "    ## train N markov samples\n",
        "    i = i + 1\n",
        "    df_mar = pd.concat(df_store)\n",
        "    temp_x = df_mar.drop('lettr', axis=1)\n",
        "    temp_y = df_mar['lettr']\n",
        "\n",
        "    if ker == \"linear\":\n",
        "      temp_clf = SVC(kernel = ker)\n",
        "    elif ker == \"rbf\":\n",
        "      temp_clf = SVC(kernel = ker, random_state = 0)\n",
        "    elif ker == \"sigmoid\":\n",
        "      temp_clf = SVC(kernel = ker)\n",
        "    elif ker == \"poly\":\n",
        "      temp_clf = SVC(kernel = ker, degree = deg)\n",
        "\n",
        "    temp_clf.fit(temp_x, temp_y)\n",
        "\n",
        "    if i < k:\n",
        "      continue\n",
        "    else:\n",
        "      break\n",
        "  return temp_clf"
      ],
      "execution_count": null,
      "outputs": []
    },
    {
      "cell_type": "code",
      "metadata": {
        "colab": {
          "base_uri": "https://localhost:8080/"
        },
        "id": "zHGriaOkz05u",
        "outputId": "e7c4578c-b4b5-46a3-b721-761ee2c01988"
      },
      "source": [
        "kt_clf = kt_svm(train, 120, 1, 1.2, 10, \"rbf\")"
      ],
      "execution_count": null,
      "outputs": [
        {
          "output_type": "stream",
          "text": [
            "samples : 20\n",
            "samples : 40\n",
            "samples : 60\n",
            "samples : 80\n",
            "samples : 100\n",
            "samples : 120\n"
          ],
          "name": "stdout"
        }
      ]
    },
    {
      "cell_type": "code",
      "metadata": {
        "id": "kHmGS5ltz01i"
      },
      "source": [
        "test_x = test.drop('lettr', axis=1)\n",
        "test_y = test['lettr']"
      ],
      "execution_count": null,
      "outputs": []
    },
    {
      "cell_type": "code",
      "metadata": {
        "colab": {
          "base_uri": "https://localhost:8080/"
        },
        "id": "jeFralmEz0zy",
        "outputId": "bce481ec-1029-470d-dfb6-1f51378a4b2a"
      },
      "source": [
        "kt_pred = kt_clf.predict(test_x)\n",
        "print(classification_report(test_y, kt_pred))"
      ],
      "execution_count": null,
      "outputs": [
        {
          "output_type": "stream",
          "text": [
            "              precision    recall  f1-score   support\n",
            "\n",
            "           A       0.00      0.00      0.00       156\n",
            "           B       0.00      0.00      0.00       136\n",
            "           C       0.00      0.00      0.00       142\n",
            "           D       0.00      0.00      0.00       167\n",
            "           E       0.00      0.00      0.00       152\n",
            "           F       0.00      0.00      0.00       153\n",
            "           G       0.07      0.55      0.12       164\n",
            "           H       0.00      0.00      0.00       151\n",
            "           I       0.00      0.00      0.00       165\n",
            "           J       0.67      0.57      0.61       148\n",
            "           K       1.00      0.01      0.03       146\n",
            "           L       0.62      0.03      0.06       157\n",
            "           M       0.62      0.83      0.71       144\n",
            "           N       0.11      0.01      0.01       166\n",
            "           O       0.14      0.57      0.23       139\n",
            "           P       0.00      0.00      0.00       168\n",
            "           Q       0.29      0.46      0.36       168\n",
            "           R       0.15      0.17      0.16       161\n",
            "           S       0.26      0.03      0.06       161\n",
            "           T       0.39      0.42      0.40       151\n",
            "           U       0.19      0.18      0.18       168\n",
            "           V       0.36      0.65      0.46       136\n",
            "           W       0.55      0.60      0.57       139\n",
            "           X       0.22      0.69      0.33       159\n",
            "           Y       0.57      0.18      0.27       145\n",
            "           Z       0.00      0.00      0.00       158\n",
            "\n",
            "    accuracy                           0.22      4000\n",
            "   macro avg       0.24      0.23      0.18      4000\n",
            "weighted avg       0.23      0.22      0.17      4000\n",
            "\n"
          ],
          "name": "stdout"
        },
        {
          "output_type": "stream",
          "text": [
            "/usr/local/lib/python3.7/dist-packages/sklearn/metrics/_classification.py:1272: UndefinedMetricWarning: Precision and F-score are ill-defined and being set to 0.0 in labels with no predicted samples. Use `zero_division` parameter to control this behavior.\n",
            "  _warn_prf(average, modifier, msg_start, len(result))\n"
          ],
          "name": "stderr"
        }
      ]
    },
    {
      "cell_type": "code",
      "metadata": {
        "id": "nAw_jg2aUYoV"
      },
      "source": [
        ""
      ],
      "execution_count": null,
      "outputs": []
    },
    {
      "cell_type": "code",
      "metadata": {
        "id": "ngOxNtdUUYPa"
      },
      "source": [
        ""
      ],
      "execution_count": null,
      "outputs": []
    },
    {
      "cell_type": "code",
      "metadata": {
        "id": "hLqmBeS1UYNl"
      },
      "source": [
        ""
      ],
      "execution_count": null,
      "outputs": []
    },
    {
      "cell_type": "code",
      "metadata": {
        "id": "fWSXjkhzUYLK"
      },
      "source": [
        ""
      ],
      "execution_count": null,
      "outputs": []
    }
  ]
}