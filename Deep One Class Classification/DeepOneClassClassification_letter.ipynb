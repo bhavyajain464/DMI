{
  "nbformat": 4,
  "nbformat_minor": 0,
  "metadata": {
    "colab": {
      "name": "DeepOneClassClassification_letter.ipynb",
      "provenance": [],
      "collapsed_sections": []
    },
    "kernelspec": {
      "name": "python3",
      "display_name": "Python 3"
    },
    "language_info": {
      "name": "python"
    }
  },
  "cells": [
    {
      "cell_type": "code",
      "metadata": {
        "id": "jlBjGaTAoY4b"
      },
      "source": [
        "import pandas as pd\n",
        "data = pd.read_csv(\"/content/letter-recognition.data\")"
      ],
      "execution_count": 1,
      "outputs": []
    },
    {
      "cell_type": "code",
      "metadata": {
        "colab": {
          "base_uri": "https://localhost:8080/",
          "height": 424
        },
        "id": "FsjqKAJJrriJ",
        "outputId": "ba877168-a4b3-44b4-bda9-0976f66ba15f"
      },
      "source": [
        "data"
      ],
      "execution_count": null,
      "outputs": [
        {
          "output_type": "execute_result",
          "data": {
            "text/html": [
              "<div>\n",
              "<style scoped>\n",
              "    .dataframe tbody tr th:only-of-type {\n",
              "        vertical-align: middle;\n",
              "    }\n",
              "\n",
              "    .dataframe tbody tr th {\n",
              "        vertical-align: top;\n",
              "    }\n",
              "\n",
              "    .dataframe thead th {\n",
              "        text-align: right;\n",
              "    }\n",
              "</style>\n",
              "<table border=\"1\" class=\"dataframe\">\n",
              "  <thead>\n",
              "    <tr style=\"text-align: right;\">\n",
              "      <th></th>\n",
              "      <th>Label</th>\n",
              "      <th>1</th>\n",
              "      <th>2</th>\n",
              "      <th>3</th>\n",
              "      <th>4</th>\n",
              "      <th>5</th>\n",
              "      <th>6</th>\n",
              "      <th>7</th>\n",
              "      <th>8</th>\n",
              "      <th>9</th>\n",
              "      <th>10</th>\n",
              "      <th>11</th>\n",
              "      <th>12</th>\n",
              "      <th>13</th>\n",
              "      <th>14</th>\n",
              "      <th>15</th>\n",
              "      <th>16</th>\n",
              "    </tr>\n",
              "  </thead>\n",
              "  <tbody>\n",
              "    <tr>\n",
              "      <th>0</th>\n",
              "      <td>T</td>\n",
              "      <td>2</td>\n",
              "      <td>8</td>\n",
              "      <td>3</td>\n",
              "      <td>5</td>\n",
              "      <td>1</td>\n",
              "      <td>8</td>\n",
              "      <td>13</td>\n",
              "      <td>0</td>\n",
              "      <td>6</td>\n",
              "      <td>6</td>\n",
              "      <td>10</td>\n",
              "      <td>8</td>\n",
              "      <td>0</td>\n",
              "      <td>8</td>\n",
              "      <td>0</td>\n",
              "      <td>8</td>\n",
              "    </tr>\n",
              "    <tr>\n",
              "      <th>1</th>\n",
              "      <td>I</td>\n",
              "      <td>5</td>\n",
              "      <td>12</td>\n",
              "      <td>3</td>\n",
              "      <td>7</td>\n",
              "      <td>2</td>\n",
              "      <td>10</td>\n",
              "      <td>5</td>\n",
              "      <td>5</td>\n",
              "      <td>4</td>\n",
              "      <td>13</td>\n",
              "      <td>3</td>\n",
              "      <td>9</td>\n",
              "      <td>2</td>\n",
              "      <td>8</td>\n",
              "      <td>4</td>\n",
              "      <td>10</td>\n",
              "    </tr>\n",
              "    <tr>\n",
              "      <th>2</th>\n",
              "      <td>D</td>\n",
              "      <td>4</td>\n",
              "      <td>11</td>\n",
              "      <td>6</td>\n",
              "      <td>8</td>\n",
              "      <td>6</td>\n",
              "      <td>10</td>\n",
              "      <td>6</td>\n",
              "      <td>2</td>\n",
              "      <td>6</td>\n",
              "      <td>10</td>\n",
              "      <td>3</td>\n",
              "      <td>7</td>\n",
              "      <td>3</td>\n",
              "      <td>7</td>\n",
              "      <td>3</td>\n",
              "      <td>9</td>\n",
              "    </tr>\n",
              "    <tr>\n",
              "      <th>3</th>\n",
              "      <td>N</td>\n",
              "      <td>7</td>\n",
              "      <td>11</td>\n",
              "      <td>6</td>\n",
              "      <td>6</td>\n",
              "      <td>3</td>\n",
              "      <td>5</td>\n",
              "      <td>9</td>\n",
              "      <td>4</td>\n",
              "      <td>6</td>\n",
              "      <td>4</td>\n",
              "      <td>4</td>\n",
              "      <td>10</td>\n",
              "      <td>6</td>\n",
              "      <td>10</td>\n",
              "      <td>2</td>\n",
              "      <td>8</td>\n",
              "    </tr>\n",
              "    <tr>\n",
              "      <th>4</th>\n",
              "      <td>G</td>\n",
              "      <td>2</td>\n",
              "      <td>1</td>\n",
              "      <td>3</td>\n",
              "      <td>1</td>\n",
              "      <td>1</td>\n",
              "      <td>8</td>\n",
              "      <td>6</td>\n",
              "      <td>6</td>\n",
              "      <td>6</td>\n",
              "      <td>6</td>\n",
              "      <td>5</td>\n",
              "      <td>9</td>\n",
              "      <td>1</td>\n",
              "      <td>7</td>\n",
              "      <td>5</td>\n",
              "      <td>10</td>\n",
              "    </tr>\n",
              "    <tr>\n",
              "      <th>...</th>\n",
              "      <td>...</td>\n",
              "      <td>...</td>\n",
              "      <td>...</td>\n",
              "      <td>...</td>\n",
              "      <td>...</td>\n",
              "      <td>...</td>\n",
              "      <td>...</td>\n",
              "      <td>...</td>\n",
              "      <td>...</td>\n",
              "      <td>...</td>\n",
              "      <td>...</td>\n",
              "      <td>...</td>\n",
              "      <td>...</td>\n",
              "      <td>...</td>\n",
              "      <td>...</td>\n",
              "      <td>...</td>\n",
              "      <td>...</td>\n",
              "    </tr>\n",
              "    <tr>\n",
              "      <th>19995</th>\n",
              "      <td>D</td>\n",
              "      <td>2</td>\n",
              "      <td>2</td>\n",
              "      <td>3</td>\n",
              "      <td>3</td>\n",
              "      <td>2</td>\n",
              "      <td>7</td>\n",
              "      <td>7</td>\n",
              "      <td>7</td>\n",
              "      <td>6</td>\n",
              "      <td>6</td>\n",
              "      <td>6</td>\n",
              "      <td>4</td>\n",
              "      <td>2</td>\n",
              "      <td>8</td>\n",
              "      <td>3</td>\n",
              "      <td>7</td>\n",
              "    </tr>\n",
              "    <tr>\n",
              "      <th>19996</th>\n",
              "      <td>C</td>\n",
              "      <td>7</td>\n",
              "      <td>10</td>\n",
              "      <td>8</td>\n",
              "      <td>8</td>\n",
              "      <td>4</td>\n",
              "      <td>4</td>\n",
              "      <td>8</td>\n",
              "      <td>6</td>\n",
              "      <td>9</td>\n",
              "      <td>12</td>\n",
              "      <td>9</td>\n",
              "      <td>13</td>\n",
              "      <td>2</td>\n",
              "      <td>9</td>\n",
              "      <td>3</td>\n",
              "      <td>7</td>\n",
              "    </tr>\n",
              "    <tr>\n",
              "      <th>19997</th>\n",
              "      <td>T</td>\n",
              "      <td>6</td>\n",
              "      <td>9</td>\n",
              "      <td>6</td>\n",
              "      <td>7</td>\n",
              "      <td>5</td>\n",
              "      <td>6</td>\n",
              "      <td>11</td>\n",
              "      <td>3</td>\n",
              "      <td>7</td>\n",
              "      <td>11</td>\n",
              "      <td>9</td>\n",
              "      <td>5</td>\n",
              "      <td>2</td>\n",
              "      <td>12</td>\n",
              "      <td>2</td>\n",
              "      <td>4</td>\n",
              "    </tr>\n",
              "    <tr>\n",
              "      <th>19998</th>\n",
              "      <td>S</td>\n",
              "      <td>2</td>\n",
              "      <td>3</td>\n",
              "      <td>4</td>\n",
              "      <td>2</td>\n",
              "      <td>1</td>\n",
              "      <td>8</td>\n",
              "      <td>7</td>\n",
              "      <td>2</td>\n",
              "      <td>6</td>\n",
              "      <td>10</td>\n",
              "      <td>6</td>\n",
              "      <td>8</td>\n",
              "      <td>1</td>\n",
              "      <td>9</td>\n",
              "      <td>5</td>\n",
              "      <td>8</td>\n",
              "    </tr>\n",
              "    <tr>\n",
              "      <th>19999</th>\n",
              "      <td>A</td>\n",
              "      <td>4</td>\n",
              "      <td>9</td>\n",
              "      <td>6</td>\n",
              "      <td>6</td>\n",
              "      <td>2</td>\n",
              "      <td>9</td>\n",
              "      <td>5</td>\n",
              "      <td>3</td>\n",
              "      <td>1</td>\n",
              "      <td>8</td>\n",
              "      <td>1</td>\n",
              "      <td>8</td>\n",
              "      <td>2</td>\n",
              "      <td>7</td>\n",
              "      <td>2</td>\n",
              "      <td>8</td>\n",
              "    </tr>\n",
              "  </tbody>\n",
              "</table>\n",
              "<p>20000 rows × 17 columns</p>\n",
              "</div>"
            ],
            "text/plain": [
              "      Label  1   2  3  4  5   6   7  8  9  10  11  12  13  14  15  16\n",
              "0         T  2   8  3  5  1   8  13  0  6   6  10   8   0   8   0   8\n",
              "1         I  5  12  3  7  2  10   5  5  4  13   3   9   2   8   4  10\n",
              "2         D  4  11  6  8  6  10   6  2  6  10   3   7   3   7   3   9\n",
              "3         N  7  11  6  6  3   5   9  4  6   4   4  10   6  10   2   8\n",
              "4         G  2   1  3  1  1   8   6  6  6   6   5   9   1   7   5  10\n",
              "...     ... ..  .. .. .. ..  ..  .. .. ..  ..  ..  ..  ..  ..  ..  ..\n",
              "19995     D  2   2  3  3  2   7   7  7  6   6   6   4   2   8   3   7\n",
              "19996     C  7  10  8  8  4   4   8  6  9  12   9  13   2   9   3   7\n",
              "19997     T  6   9  6  7  5   6  11  3  7  11   9   5   2  12   2   4\n",
              "19998     S  2   3  4  2  1   8   7  2  6  10   6   8   1   9   5   8\n",
              "19999     A  4   9  6  6  2   9   5  3  1   8   1   8   2   7   2   8\n",
              "\n",
              "[20000 rows x 17 columns]"
            ]
          },
          "metadata": {
            "tags": []
          },
          "execution_count": 239
        }
      ]
    },
    {
      "cell_type": "code",
      "metadata": {
        "colab": {
          "base_uri": "https://localhost:8080/",
          "height": 282
        },
        "id": "w9nerkOkru03",
        "outputId": "0b5938b5-db98-47b1-d1d0-150ab2911756"
      },
      "source": [
        "data['Label'].hist(bins=120)"
      ],
      "execution_count": 2,
      "outputs": [
        {
          "output_type": "execute_result",
          "data": {
            "text/plain": [
              "<matplotlib.axes._subplots.AxesSubplot at 0x7f3404fafc50>"
            ]
          },
          "metadata": {
            "tags": []
          },
          "execution_count": 2
        },
        {
          "output_type": "display_data",
          "data": {
            "image/png": "[encoded data removed]",
            "text/plain": [
              "<Figure size 432x288 with 1 Axes>"
            ]
          },
          "metadata": {
            "tags": [],
            "needs_background": "light"
          }
        }
      ]
    },
    {
      "cell_type": "code",
      "metadata": {
        "id": "M9k9cZAYcsEf"
      },
      "source": [
        "train_data = data.sample(frac=0.7)\n",
        "test_data = data.drop(train_data.index)"
      ],
      "execution_count": 3,
      "outputs": []
    },
    {
      "cell_type": "code",
      "metadata": {
        "id": "9X5IUOrqdkG-"
      },
      "source": [
        "import numpy as np\n",
        "def label_data(label):\n",
        "  labels = np.array(train_data['Label'].unique())\n",
        "  df = []\n",
        "  for l in labels:\n",
        "    if(l==label):\n",
        "      df.append(train_data[train_data['Label']==l])\n",
        "    else:\n",
        "      df.append(train_data[train_data['Label']==l].sample(frac=0.04))\n",
        "  return pd.concat(df)"
      ],
      "execution_count": 8,
      "outputs": []
    },
    {
      "cell_type": "code",
      "metadata": {
        "id": "0OUloQ0nUqJK"
      },
      "source": [
        "from sklearn.svm import OneClassSVM\n",
        "OCSVM_for_label = {}\n",
        "int_to_letter = {}\n",
        "for i,l in enumerate(np.array(train_data['Label'].unique())):\n",
        "  int_to_letter[i]=l\n",
        "  data_label = label_data(l)\n",
        "  data_label['Label'].replace()\n",
        "  clf = OneClassSVM(gamma='auto',kernel='rbf').fit(data_label.drop('Label',axis=1))\n",
        "  OCSVM_for_label[l]=clf"
      ],
      "execution_count": 9,
      "outputs": []
    },
    {
      "cell_type": "code",
      "metadata": {
        "id": "gnMDTzi5fl7s"
      },
      "source": [
        "predictions = []\n",
        "for let in OCSVM_for_label:\n",
        "  predictions.append(OCSVM_for_label[let].decision_function(test_data.drop('Label',axis=1)))"
      ],
      "execution_count": 10,
      "outputs": []
    },
    {
      "cell_type": "code",
      "metadata": {
        "id": "sE8fGnWuf6Ue"
      },
      "source": [
        "predictions = np.array(predictions).T"
      ],
      "execution_count": 11,
      "outputs": []
    },
    {
      "cell_type": "code",
      "metadata": {
        "id": "zTAIwiNJhTOc"
      },
      "source": [
        "ans = []\n",
        "for i,pred in enumerate(predictions):\n",
        "  ans.append(int_to_letter[pred.argmax()])"
      ],
      "execution_count": 12,
      "outputs": []
    },
    {
      "cell_type": "code",
      "metadata": {
        "colab": {
          "base_uri": "https://localhost:8080/"
        },
        "id": "R4Z8EGL9h-ty",
        "outputId": "d88c57fe-03fb-4360-9eaf-bc53f8b443f5"
      },
      "source": [
        "from sklearn.metrics import classification_report\n",
        "print(classification_report(test_data['Label'], ans))"
      ],
      "execution_count": 13,
      "outputs": [
        {
          "output_type": "stream",
          "text": [
            "              precision    recall  f1-score   support\n",
            "\n",
            "           A       0.96      0.96      0.96       227\n",
            "           B       0.88      0.65      0.75       260\n",
            "           C       0.75      0.93      0.83       212\n",
            "           D       0.77      0.81      0.79       245\n",
            "           E       0.83      0.73      0.77       216\n",
            "           F       0.88      0.76      0.82       236\n",
            "           G       0.77      0.56      0.65       235\n",
            "           H       0.80      0.57      0.67       235\n",
            "           I       0.82      0.92      0.87       199\n",
            "           J       0.88      0.97      0.92       232\n",
            "           K       0.76      0.88      0.82       217\n",
            "           L       0.93      0.93      0.93       226\n",
            "           M       0.76      0.99      0.86       232\n",
            "           N       0.86      0.91      0.89       253\n",
            "           O       0.68      0.75      0.71       217\n",
            "           P       0.88      0.90      0.89       253\n",
            "           Q       0.83      0.89      0.86       249\n",
            "           R       0.86      0.73      0.79       226\n",
            "           S       0.79      0.79      0.79       219\n",
            "           T       0.85      0.85      0.85       239\n",
            "           U       0.95      0.93      0.94       239\n",
            "           V       0.91      0.90      0.90       220\n",
            "           W       0.91      0.91      0.91       236\n",
            "           X       0.80      0.68      0.73       234\n",
            "           Y       0.86      0.97      0.91       231\n",
            "           Z       0.82      0.91      0.86       212\n",
            "\n",
            "    accuracy                           0.84      6000\n",
            "   macro avg       0.84      0.84      0.83      6000\n",
            "weighted avg       0.84      0.84      0.83      6000\n",
            "\n"
          ],
          "name": "stdout"
        }
      ]
    },
    {
      "cell_type": "code",
      "metadata": {
        "id": "izQjgBrY-UZY"
      },
      "source": [
        "from sklearn.svm import OneClassSVM\n",
        "OCSVM_for_label = {}\n",
        "int_to_letter = {}\n",
        "for i,l in enumerate(np.array(train_data['Label'].unique())):\n",
        "  int_to_letter[i]=l\n",
        "  data_label = label_data(l)\n",
        "  data_label['Label'].replace()\n",
        "  clf = OneClassSVM(gamma='auto',kernel='poly').fit(data_label.drop('Label',axis=1))\n",
        "  OCSVM_for_label[l]=clf"
      ],
      "execution_count": 14,
      "outputs": []
    },
    {
      "cell_type": "code",
      "metadata": {
        "id": "fwXPCUcj-UZb"
      },
      "source": [
        "predictions = []\n",
        "for let in OCSVM_for_label:\n",
        "  predictions.append(OCSVM_for_label[let].decision_function(test_data.drop('Label',axis=1)))"
      ],
      "execution_count": 15,
      "outputs": []
    },
    {
      "cell_type": "code",
      "metadata": {
        "id": "F4aoVpgt-UZf"
      },
      "source": [
        "predictions = np.array(predictions).T"
      ],
      "execution_count": 16,
      "outputs": []
    },
    {
      "cell_type": "code",
      "metadata": {
        "id": "8w-CnBzF-UZi"
      },
      "source": [
        "ans = []\n",
        "for i,pred in enumerate(predictions):\n",
        "  ans.append(int_to_letter[pred.argmax()])"
      ],
      "execution_count": 17,
      "outputs": []
    },
    {
      "cell_type": "code",
      "metadata": {
        "colab": {
          "base_uri": "https://localhost:8080/"
        },
        "id": "WIwyA1cd-UZj",
        "outputId": "ea40c891-427f-44ee-ef0a-58181cce6984"
      },
      "source": [
        "from sklearn.metrics import classification_report\n",
        "print(classification_report(test_data['Label'], ans))"
      ],
      "execution_count": 18,
      "outputs": [
        {
          "output_type": "stream",
          "text": [
            "              precision    recall  f1-score   support\n",
            "\n",
            "           A       0.06      0.47      0.11       227\n",
            "           B       0.00      0.00      0.00       260\n",
            "           C       0.00      0.00      0.00       212\n",
            "           D       0.05      0.08      0.06       245\n",
            "           E       0.00      0.00      0.00       216\n",
            "           F       0.24      0.09      0.13       236\n",
            "           G       0.00      0.00      0.00       235\n",
            "           H       0.00      0.00      0.00       235\n",
            "           I       0.05      0.17      0.08       199\n",
            "           J       0.75      0.01      0.03       232\n",
            "           K       0.00      0.00      0.00       217\n",
            "           L       0.07      0.75      0.13       226\n",
            "           M       0.26      0.14      0.18       232\n",
            "           N       0.18      0.07      0.10       253\n",
            "           O       0.00      0.00      0.00       217\n",
            "           P       0.87      0.11      0.19       253\n",
            "           Q       0.80      0.03      0.06       249\n",
            "           R       0.18      0.01      0.02       226\n",
            "           S       0.15      0.04      0.06       219\n",
            "           T       0.00      0.00      0.00       239\n",
            "           U       0.32      0.21      0.26       239\n",
            "           V       0.50      0.00      0.01       220\n",
            "           W       0.89      0.11      0.19       236\n",
            "           X       0.13      0.08      0.10       234\n",
            "           Y       0.28      0.03      0.05       231\n",
            "           Z       0.00      0.00      0.00       212\n",
            "\n",
            "    accuracy                           0.09      6000\n",
            "   macro avg       0.22      0.09      0.07      6000\n",
            "weighted avg       0.23      0.09      0.07      6000\n",
            "\n"
          ],
          "name": "stdout"
        },
        {
          "output_type": "stream",
          "text": [
            "/usr/local/lib/python3.7/dist-packages/sklearn/metrics/_classification.py:1272: UndefinedMetricWarning: Precision and F-score are ill-defined and being set to 0.0 in labels with no predicted samples. Use `zero_division` parameter to control this behavior.\n",
            "  _warn_prf(average, modifier, msg_start, len(result))\n"
          ],
          "name": "stderr"
        }
      ]
    },
    {
      "cell_type": "code",
      "metadata": {
        "id": "MQG_RbrZ-VAW"
      },
      "source": [
        "from sklearn.svm import OneClassSVM\n",
        "OCSVM_for_label = {}\n",
        "int_to_letter = {}\n",
        "for i,l in enumerate(np.array(train_data['Label'].unique())):\n",
        "  int_to_letter[i]=l\n",
        "  data_label = label_data(l)\n",
        "  data_label['Label'].replace()\n",
        "  clf = OneClassSVM(gamma='auto',kernel='linear').fit(data_label.drop('Label',axis=1))\n",
        "  OCSVM_for_label[l]=clf"
      ],
      "execution_count": 19,
      "outputs": []
    },
    {
      "cell_type": "code",
      "metadata": {
        "id": "qfRTT38G-VAb"
      },
      "source": [
        "predictions = []\n",
        "for let in OCSVM_for_label:\n",
        "  predictions.append(OCSVM_for_label[let].decision_function(test_data.drop('Label',axis=1)))"
      ],
      "execution_count": 20,
      "outputs": []
    },
    {
      "cell_type": "code",
      "metadata": {
        "id": "ugb8h0T4-VAd"
      },
      "source": [
        "predictions = np.array(predictions).T"
      ],
      "execution_count": 21,
      "outputs": []
    },
    {
      "cell_type": "code",
      "metadata": {
        "id": "O4PTeOae-VAf"
      },
      "source": [
        "ans = []\n",
        "for i,pred in enumerate(predictions):\n",
        "  ans.append(int_to_letter[pred.argmax()])"
      ],
      "execution_count": 22,
      "outputs": []
    },
    {
      "cell_type": "code",
      "metadata": {
        "colab": {
          "base_uri": "https://localhost:8080/"
        },
        "id": "Icus6WJ--VAg",
        "outputId": "a1057ec8-7fc8-4a07-c042-ce7e3aca973d"
      },
      "source": [
        "from sklearn.metrics import classification_report\n",
        "print(classification_report(test_data['Label'], ans))"
      ],
      "execution_count": 23,
      "outputs": [
        {
          "output_type": "stream",
          "text": [
            "              precision    recall  f1-score   support\n",
            "\n",
            "           A       0.07      0.90      0.12       227\n",
            "           B       0.00      0.00      0.00       260\n",
            "           C       0.00      0.00      0.00       212\n",
            "           D       0.00      0.00      0.00       245\n",
            "           E       0.00      0.00      0.00       216\n",
            "           F       0.44      0.02      0.03       236\n",
            "           G       0.00      0.00      0.00       235\n",
            "           H       0.00      0.00      0.00       235\n",
            "           I       0.05      0.19      0.08       199\n",
            "           J       0.00      0.00      0.00       232\n",
            "           K       0.00      0.00      0.00       217\n",
            "           L       0.08      0.77      0.15       226\n",
            "           M       0.80      0.03      0.07       232\n",
            "           N       0.17      0.00      0.01       253\n",
            "           O       0.00      0.00      0.00       217\n",
            "           P       1.00      0.04      0.08       253\n",
            "           Q       0.00      0.00      0.00       249\n",
            "           R       0.00      0.00      0.00       226\n",
            "           S       0.00      0.00      0.00       219\n",
            "           T       0.00      0.00      0.00       239\n",
            "           U       0.75      0.01      0.02       239\n",
            "           V       0.00      0.00      0.00       220\n",
            "           W       0.00      0.00      0.00       236\n",
            "           X       0.00      0.00      0.00       234\n",
            "           Y       0.00      0.00      0.00       231\n",
            "           Z       0.00      0.00      0.00       212\n",
            "\n",
            "    accuracy                           0.07      6000\n",
            "   macro avg       0.13      0.08      0.02      6000\n",
            "weighted avg       0.13      0.07      0.02      6000\n",
            "\n"
          ],
          "name": "stdout"
        },
        {
          "output_type": "stream",
          "text": [
            "/usr/local/lib/python3.7/dist-packages/sklearn/metrics/_classification.py:1272: UndefinedMetricWarning: Precision and F-score are ill-defined and being set to 0.0 in labels with no predicted samples. Use `zero_division` parameter to control this behavior.\n",
            "  _warn_prf(average, modifier, msg_start, len(result))\n"
          ],
          "name": "stderr"
        }
      ]
    },
    {
      "cell_type": "code",
      "metadata": {
        "id": "xEJtF32_-Veu"
      },
      "source": [
        "from sklearn.svm import OneClassSVM\n",
        "OCSVM_for_label = {}\n",
        "int_to_letter = {}\n",
        "for i,l in enumerate(np.array(train_data['Label'].unique())):\n",
        "  int_to_letter[i]=l\n",
        "  data_label = label_data(l)\n",
        "  data_label['Label'].replace()\n",
        "  clf = OneClassSVM(gamma='auto',kernel='sigmoid').fit(data_label.drop('Label',axis=1))\n",
        "  OCSVM_for_label[l]=clf"
      ],
      "execution_count": 24,
      "outputs": []
    },
    {
      "cell_type": "code",
      "metadata": {
        "id": "b_jNuFjs-Vey"
      },
      "source": [
        "predictions = []\n",
        "for let in OCSVM_for_label:\n",
        "  predictions.append(OCSVM_for_label[let].decision_function(test_data.drop('Label',axis=1)))"
      ],
      "execution_count": 25,
      "outputs": []
    },
    {
      "cell_type": "code",
      "metadata": {
        "id": "26-CG6t2-Vez"
      },
      "source": [
        "predictions = np.array(predictions).T"
      ],
      "execution_count": 26,
      "outputs": []
    },
    {
      "cell_type": "code",
      "metadata": {
        "id": "pJ63lMF0-Ve0"
      },
      "source": [
        "ans = []\n",
        "for i,pred in enumerate(predictions):\n",
        "  ans.append(int_to_letter[pred.argmax()])"
      ],
      "execution_count": 27,
      "outputs": []
    },
    {
      "cell_type": "code",
      "metadata": {
        "colab": {
          "base_uri": "https://localhost:8080/"
        },
        "id": "2RmJU5RY-Ve0",
        "outputId": "8316e4e6-769d-4e1f-e503-6f53a3e157e1"
      },
      "source": [
        "from sklearn.metrics import classification_report\n",
        "print(classification_report(test_data['Label'], ans))"
      ],
      "execution_count": 28,
      "outputs": [
        {
          "output_type": "stream",
          "text": [
            "              precision    recall  f1-score   support\n",
            "\n",
            "           A       0.00      0.00      0.00       227\n",
            "           B       0.00      0.00      0.00       260\n",
            "           C       0.00      0.00      0.00       212\n",
            "           D       0.00      0.00      0.00       245\n",
            "           E       0.00      0.00      0.00       216\n",
            "           F       0.00      0.00      0.00       236\n",
            "           G       0.00      0.00      0.00       235\n",
            "           H       0.00      0.00      0.00       235\n",
            "           I       0.00      0.00      0.00       199\n",
            "           J       0.00      0.00      0.00       232\n",
            "           K       0.00      0.00      0.00       217\n",
            "           L       0.00      0.00      0.00       226\n",
            "           M       0.00      0.00      0.00       232\n",
            "           N       0.00      0.00      0.00       253\n",
            "           O       0.00      0.00      0.00       217\n",
            "           P       0.00      0.00      0.00       253\n",
            "           Q       0.00      0.00      0.00       249\n",
            "           R       0.00      0.00      0.00       226\n",
            "           S       0.00      0.00      0.00       219\n",
            "           T       0.00      0.00      0.00       239\n",
            "           U       0.04      1.00      0.08       239\n",
            "           V       0.00      0.00      0.00       220\n",
            "           W       0.00      0.00      0.00       236\n",
            "           X       0.00      0.00      0.00       234\n",
            "           Y       0.00      0.00      0.00       231\n",
            "           Z       0.00      0.00      0.00       212\n",
            "\n",
            "    accuracy                           0.04      6000\n",
            "   macro avg       0.00      0.04      0.00      6000\n",
            "weighted avg       0.00      0.04      0.00      6000\n",
            "\n"
          ],
          "name": "stdout"
        },
        {
          "output_type": "stream",
          "text": [
            "/usr/local/lib/python3.7/dist-packages/sklearn/metrics/_classification.py:1272: UndefinedMetricWarning: Precision and F-score are ill-defined and being set to 0.0 in labels with no predicted samples. Use `zero_division` parameter to control this behavior.\n",
            "  _warn_prf(average, modifier, msg_start, len(result))\n"
          ],
          "name": "stderr"
        }
      ]
    },
    {
      "cell_type": "code",
      "metadata": {
        "id": "whh-Vt3nMLb0"
      },
      "source": [
        ""
      ],
      "execution_count": null,
      "outputs": []
    }
  ]
}